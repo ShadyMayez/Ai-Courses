{
  "nbformat": 4,
  "nbformat_minor": 0,
  "metadata": {
    "colab": {
      "provenance": []
    },
    "kernelspec": {
      "name": "python3",
      "display_name": "Python 3"
    },
    "language_info": {
      "name": "python"
    }
  },
  "cells": [
    {
      "cell_type": "code",
      "execution_count": null,
      "metadata": {
        "id": "vs_SU3ng0tbN"
      },
      "outputs": [],
      "source": []
    },
    {
      "cell_type": "markdown",
      "source": [
        "\n",
        "# **WAP to enter a number from user and print its absolute value.**"
      ],
      "metadata": {
        "id": "MnWAiH2o0zSa"
      }
    },
    {
      "cell_type": "code",
      "source": [
        "x=float(input(\"enter a number: \"))\n",
        "if x<0:\n",
        "  print(-x)\n",
        "else:\n",
        "  print(x)"
      ],
      "metadata": {
        "id": "l3oLMLbk02Pj",
        "colab": {
          "base_uri": "https://localhost:8080/"
        },
        "outputId": "02070e22-8376-4548-c913-36923845c928"
      },
      "execution_count": 1,
      "outputs": [
        {
          "output_type": "stream",
          "name": "stdout",
          "text": [
            "enter a number: -299792458\n",
            "299792458.0\n"
          ]
        }
      ]
    },
    {
      "cell_type": "markdown",
      "source": [
        "# **WAP to enter a year from user and check if it is leap year or not.**"
      ],
      "metadata": {
        "id": "pOnjNwNx03Tr"
      }
    },
    {
      "cell_type": "code",
      "source": [
        "x=int(input(\"enter a year: \"))\n",
        "if (x%100==1 and x%4==0) or x%400==0:\n",
        "  print(\"leap year\")\n",
        "else:\n",
        "  print(\"not a leap year\")"
      ],
      "metadata": {
        "id": "4PEtUTm51H6x",
        "colab": {
          "base_uri": "https://localhost:8080/"
        },
        "outputId": "5f4abac9-ea4a-4dfe-e216-8660b4ed5e4f"
      },
      "execution_count": 2,
      "outputs": [
        {
          "output_type": "stream",
          "name": "stdout",
          "text": [
            "enter a year: 1900\n",
            "not a leap year\n"
          ]
        }
      ]
    },
    {
      "cell_type": "markdown",
      "source": [
        "# **WAP to enter the age of 3 person and print oldest and yougest among them.**"
      ],
      "metadata": {
        "id": "sn-NADUn1VGn"
      }
    },
    {
      "cell_type": "code",
      "source": [
        "z,x ,y = map(int, input().split())\n",
        "if x>y:\n",
        "  if x>z:\n",
        "    print(x,'is the oldest')\n",
        "    if z>y:\n",
        "      print(y,'is the youngest')\n",
        "    else:\n",
        "      print(z,'is the youngest')\n",
        "  else:\n",
        "      print(z,'is the oldest')\n",
        "      if x>y:\n",
        "        print(y,'is the youngest')\n",
        "      else:\n",
        "        print(x,'is the youngest')\n",
        "else:\n",
        "  if y>z:\n",
        "    print(y,\"is the oldest\")\n",
        "    if z>x:\n",
        "      print(x,'is the youngest')\n",
        "    else:\n",
        "      print(z,'is the youngest')\n",
        "  else:\n",
        "    print(z,'is the oldest')\n",
        "    if y>x:\n",
        "      print(x,'is the youngest')\n",
        "    else:\n",
        "      print(y,'is the youngest')"
      ],
      "metadata": {
        "id": "uNGWS1AT1cYP",
        "colab": {
          "base_uri": "https://localhost:8080/"
        },
        "outputId": "f3ccf248-3d68-461b-e660-b14973a118eb"
      },
      "execution_count": 3,
      "outputs": [
        {
          "output_type": "stream",
          "name": "stdout",
          "text": [
            "44 19 36\n",
            "44 is the oldest\n",
            "19 is the youngest\n"
          ]
        }
      ]
    },
    {
      "cell_type": "markdown",
      "source": [
        "# **Write a program that asks the user to enter a series of numbers. The program should ask for numbers until the user enters a negative number. Once the user enters a negative number, the program should stop and print the sum of all the positive numbers entered**\n",
        "# **Example**\n",
        "# **Enter a number: 5**\n",
        "# **Enter a number: 8**\n",
        "# **Enter a number: 12**\n",
        "# **Enter a number: -2**\n",
        "# **The sum of the positive numbers is 25.**"
      ],
      "metadata": {
        "id": "XFRRNGVj1dEw"
      }
    },
    {
      "cell_type": "code",
      "source": [
        "x=int(input(\"enter a number: \"))\n",
        "sum=0\n",
        "while x>=0:\n",
        "  sum += x\n",
        "  x=int(input(\"enter a number: \"))\n",
        "print(sum)"
      ],
      "metadata": {
        "id": "ijp9SzHu2A3p",
        "colab": {
          "base_uri": "https://localhost:8080/"
        },
        "outputId": "34df40fb-d7ae-43f3-b134-868c205f5c05"
      },
      "execution_count": 5,
      "outputs": [
        {
          "output_type": "stream",
          "name": "stdout",
          "text": [
            "enter a number: 1\n",
            "enter a number: 2\n",
            "enter a number: 3\n",
            "enter a number: 4\n",
            "enter a number: 5\n",
            "enter a number: -1\n",
            "15\n"
          ]
        }
      ]
    },
    {
      "cell_type": "markdown",
      "source": [
        "# **Write a program that asks the user to enter their name and age. The program should check if the user's age is greater than or equal to 18. If it is, the program should print a message saying they are eligible to vote. Otherwise, the program should print a message saying they are not eligible to vote due to being underage.**"
      ],
      "metadata": {
        "id": "oODCHUj62DxA"
      }
    },
    {
      "cell_type": "code",
      "source": [
        "x=input('inter ur name: ')\n",
        "y=int(input('inter ur age: '))\n",
        "if y>=18:\n",
        "  print('eligible to vote')\n",
        "else:\n",
        "  print('not eligible to vote')"
      ],
      "metadata": {
        "id": "Svls1cLA2JVA",
        "colab": {
          "base_uri": "https://localhost:8080/"
        },
        "outputId": "6f0e07ec-84e8-47ed-d6bc-c823d1f750f2"
      },
      "execution_count": 6,
      "outputs": [
        {
          "output_type": "stream",
          "name": "stdout",
          "text": [
            "inter ur name: shady\n",
            "inter ur age: 19\n",
            "eligible to vote\n"
          ]
        }
      ]
    },
    {
      "cell_type": "markdown",
      "source": [
        "# **Write a Python Program to Find the Factorial of a Number**"
      ],
      "metadata": {
        "id": "2y5o5SqL3nvL"
      }
    },
    {
      "cell_type": "code",
      "source": [
        "x=int(input('inter a number to get its factorial: '))\n",
        "fact=1\n",
        "for i in range(1,x+1):\n",
        "  fact *= i\n",
        "print(fact)"
      ],
      "metadata": {
        "id": "Q_v3ns1D3tgy",
        "colab": {
          "base_uri": "https://localhost:8080/"
        },
        "outputId": "904ce6b3-9647-47ac-a272-58fc77629b10"
      },
      "execution_count": 7,
      "outputs": [
        {
          "output_type": "stream",
          "name": "stdout",
          "text": [
            "inter a number to get its factorial: 5\n",
            "120\n"
          ]
        }
      ]
    },
    {
      "cell_type": "code",
      "source": [
        "from google.colab import files\n",
        "files.download('Task2.ipynb')"
      ],
      "metadata": {
        "id": "KFGrzCTGfSIX",
        "colab": {
          "base_uri": "https://localhost:8080/",
          "height": 280
        },
        "outputId": "bada6422-d7ea-4ad9-af46-5ac55df146d0"
      },
      "execution_count": 11,
      "outputs": [
        {
          "output_type": "error",
          "ename": "FileNotFoundError",
          "evalue": "Cannot find file: Task2.ipynb",
          "traceback": [
            "\u001b[0;31m---------------------------------------------------------------------------\u001b[0m",
            "\u001b[0;31mFileNotFoundError\u001b[0m                         Traceback (most recent call last)",
            "\u001b[0;32m<ipython-input-11-6f8c2eb8fcea>\u001b[0m in \u001b[0;36m<cell line: 0>\u001b[0;34m()\u001b[0m\n\u001b[1;32m      1\u001b[0m \u001b[0;32mfrom\u001b[0m \u001b[0mgoogle\u001b[0m\u001b[0;34m.\u001b[0m\u001b[0mcolab\u001b[0m \u001b[0;32mimport\u001b[0m \u001b[0mfiles\u001b[0m\u001b[0;34m\u001b[0m\u001b[0;34m\u001b[0m\u001b[0m\n\u001b[0;32m----> 2\u001b[0;31m \u001b[0mfiles\u001b[0m\u001b[0;34m.\u001b[0m\u001b[0mdownload\u001b[0m\u001b[0;34m(\u001b[0m\u001b[0;34m'Task2.ipynb'\u001b[0m\u001b[0;34m)\u001b[0m\u001b[0;34m\u001b[0m\u001b[0;34m\u001b[0m\u001b[0m\n\u001b[0m",
            "\u001b[0;32m/usr/local/lib/python3.11/dist-packages/google/colab/files.py\u001b[0m in \u001b[0;36mdownload\u001b[0;34m(filename)\u001b[0m\n\u001b[1;32m    231\u001b[0m   \u001b[0;32mif\u001b[0m \u001b[0;32mnot\u001b[0m \u001b[0m_os\u001b[0m\u001b[0;34m.\u001b[0m\u001b[0mpath\u001b[0m\u001b[0;34m.\u001b[0m\u001b[0mexists\u001b[0m\u001b[0;34m(\u001b[0m\u001b[0mfilename\u001b[0m\u001b[0;34m)\u001b[0m\u001b[0;34m:\u001b[0m\u001b[0;34m\u001b[0m\u001b[0;34m\u001b[0m\u001b[0m\n\u001b[1;32m    232\u001b[0m     \u001b[0mmsg\u001b[0m \u001b[0;34m=\u001b[0m \u001b[0;34m'Cannot find file: {}'\u001b[0m\u001b[0;34m.\u001b[0m\u001b[0mformat\u001b[0m\u001b[0;34m(\u001b[0m\u001b[0mfilename\u001b[0m\u001b[0;34m)\u001b[0m\u001b[0;34m\u001b[0m\u001b[0;34m\u001b[0m\u001b[0m\n\u001b[0;32m--> 233\u001b[0;31m     \u001b[0;32mraise\u001b[0m \u001b[0mFileNotFoundError\u001b[0m\u001b[0;34m(\u001b[0m\u001b[0mmsg\u001b[0m\u001b[0;34m)\u001b[0m  \u001b[0;31m# pylint: disable=undefined-variable\u001b[0m\u001b[0;34m\u001b[0m\u001b[0;34m\u001b[0m\u001b[0m\n\u001b[0m\u001b[1;32m    234\u001b[0m \u001b[0;34m\u001b[0m\u001b[0m\n\u001b[1;32m    235\u001b[0m   \u001b[0mcomm_manager\u001b[0m \u001b[0;34m=\u001b[0m \u001b[0m_IPython\u001b[0m\u001b[0;34m.\u001b[0m\u001b[0mget_ipython\u001b[0m\u001b[0;34m(\u001b[0m\u001b[0;34m)\u001b[0m\u001b[0;34m.\u001b[0m\u001b[0mkernel\u001b[0m\u001b[0;34m.\u001b[0m\u001b[0mcomm_manager\u001b[0m\u001b[0;34m\u001b[0m\u001b[0;34m\u001b[0m\u001b[0m\n",
            "\u001b[0;31mFileNotFoundError\u001b[0m: Cannot find file: Task2.ipynb"
          ]
        }
      ]
    },
    {
      "cell_type": "code",
      "source": [],
      "metadata": {
        "id": "vBIc-5xhh6qg"
      },
      "execution_count": null,
      "outputs": []
    }
  ]
}