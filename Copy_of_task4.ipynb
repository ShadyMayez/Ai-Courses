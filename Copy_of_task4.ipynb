{
  "cells": [
    {
      "cell_type": "markdown",
      "metadata": {
        "id": "view-in-github",
        "colab_type": "text"
      },
      "source": [
        "<a href=\"https://colab.research.google.com/github/ShadyMayez/Ai-Courses/blob/main/Copy_of_task4.ipynb\" target=\"_parent\"><img src=\"https://colab.research.google.com/assets/colab-badge.svg\" alt=\"Open In Colab\"/></a>"
      ]
    },
    {
      "cell_type": "markdown",
      "id": "759d04ba",
      "metadata": {
        "id": "759d04ba"
      },
      "source": [
        "**1-Write a Python program to calculate the length of a string using 2 ways"
      ]
    },
    {
      "cell_type": "code",
      "source": [
        "def Len(s):\n",
        "  counter=0\n",
        "  for i in s:\n",
        "    counter+=1\n",
        "  return counter\n",
        "Len('ShadyMayez')"
      ],
      "metadata": {
        "id": "qhmXKdW3JM_B",
        "outputId": "8872e65f-d3cc-4668-b5b1-fccf7ad5d775",
        "colab": {
          "base_uri": "https://localhost:8080/"
        }
      },
      "id": "qhmXKdW3JM_B",
      "execution_count": null,
      "outputs": [
        {
          "output_type": "execute_result",
          "data": {
            "text/plain": [
              "10"
            ]
          },
          "metadata": {},
          "execution_count": 1
        }
      ]
    },
    {
      "cell_type": "code",
      "source": [
        "def Len2(s):\n",
        "  l=s[-1]\n",
        "  return s.index(l)+1\n",
        "Len2('ShadyMayez')"
      ],
      "metadata": {
        "id": "4Z_YiD5oJMtx",
        "outputId": "5a2b60ff-238d-4d82-c799-75fd9f694f32",
        "colab": {
          "base_uri": "https://localhost:8080/"
        }
      },
      "id": "4Z_YiD5oJMtx",
      "execution_count": null,
      "outputs": [
        {
          "output_type": "execute_result",
          "data": {
            "text/plain": [
              "10"
            ]
          },
          "metadata": {},
          "execution_count": 2
        }
      ]
    },
    {
      "cell_type": "markdown",
      "id": "d7cc9da7",
      "metadata": {
        "id": "d7cc9da7"
      },
      "source": [
        "**2-Write a Python program to get a string made of the first 2 and last 2 characters of a given string. If the string length is less than 2, return the empty string instead (\"##Sample String : 'w3resource'\n",
        "Expected Result : 'w3ce'\n",
        "##Sample String : 'w3'\n",
        "Expected Result : 'w3w3'\n",
        "##Sample String : ' w'\n",
        "Expected Result : Empty String)"
      ]
    },
    {
      "cell_type": "code",
      "execution_count": null,
      "id": "e434c950",
      "metadata": {
        "id": "e434c950",
        "outputId": "5a11c24b-5b59-4d1e-81a2-3e75c1262845",
        "colab": {
          "base_uri": "https://localhost:8080/",
          "height": 35
        }
      },
      "outputs": [
        {
          "output_type": "execute_result",
          "data": {
            "text/plain": [
              "'w3ce'"
            ],
            "application/vnd.google.colaboratory.intrinsic+json": {
              "type": "string"
            }
          },
          "metadata": {},
          "execution_count": 7
        }
      ],
      "source": [
        " def f2_l2(s):\n",
        "  if Len(s)<2:\n",
        "    return ''\n",
        "  else:\n",
        "    return s[:2]+s[-2:]\n",
        "f2_l2('w3resource')\n"
      ]
    },
    {
      "cell_type": "code",
      "execution_count": null,
      "id": "dafa9dd8",
      "metadata": {
        "id": "dafa9dd8",
        "outputId": "de7fa677-bee1-4ab0-abd9-b3b521e9aa28",
        "colab": {
          "base_uri": "https://localhost:8080/",
          "height": 35
        }
      },
      "outputs": [
        {
          "output_type": "execute_result",
          "data": {
            "text/plain": [
              "''"
            ],
            "application/vnd.google.colaboratory.intrinsic+json": {
              "type": "string"
            }
          },
          "metadata": {},
          "execution_count": 8
        }
      ],
      "source": [
        "f2_l2('w')"
      ]
    },
    {
      "cell_type": "markdown",
      "id": "1534f956",
      "metadata": {
        "id": "1534f956"
      },
      "source": [
        "**3-Write a Python program to add 'ing' at the end of a given string (length should be at least 3). If the given string already ends with 'ing', add 'ly' instead. If the string length of the given string is less than 3, leave it unchanged. (Sample String : 'abc'\n",
        "Expected Result : 'abcing')"
      ]
    },
    {
      "cell_type": "code",
      "execution_count": null,
      "id": "7ff8cec4",
      "metadata": {
        "id": "7ff8cec4",
        "outputId": "c9e8a6c7-8d02-466b-c73a-c1e303c99a7b",
        "colab": {
          "base_uri": "https://localhost:8080/",
          "height": 35
        }
      },
      "outputs": [
        {
          "output_type": "execute_result",
          "data": {
            "text/plain": [
              "'abcing'"
            ],
            "application/vnd.google.colaboratory.intrinsic+json": {
              "type": "string"
            }
          },
          "metadata": {},
          "execution_count": 10
        }
      ],
      "source": [
        "def add_ing_ly(s):\n",
        "  if Len2(s)<3:\n",
        "    return s\n",
        "  elif s[-3:]=='ing':\n",
        "    s=s[:Len2(s)-3]+'ly'\n",
        "  else:\n",
        "    s=s+'ing'\n",
        "  return s\n",
        "add_ing_ly('abc')"
      ]
    },
    {
      "cell_type": "code",
      "source": [
        "add_ing_ly('playing')"
      ],
      "metadata": {
        "id": "IywVyXVeMJDU",
        "outputId": "780c72fa-c8cc-4afc-d640-1bff59c0e6d3",
        "colab": {
          "base_uri": "https://localhost:8080/",
          "height": 35
        }
      },
      "id": "IywVyXVeMJDU",
      "execution_count": null,
      "outputs": [
        {
          "output_type": "execute_result",
          "data": {
            "text/plain": [
              "'playly'"
            ],
            "application/vnd.google.colaboratory.intrinsic+json": {
              "type": "string"
            }
          },
          "metadata": {},
          "execution_count": 11
        }
      ]
    },
    {
      "cell_type": "markdown",
      "id": "1c0a6627",
      "metadata": {
        "id": "1c0a6627"
      },
      "source": [
        "**4-Write a Python function that takes a list of words and return the longest word and the length of the longest one\n",
        "(Longest word: Exercises\n",
        "Length of the longest word: 9)"
      ]
    },
    {
      "cell_type": "code",
      "execution_count": null,
      "id": "397341d9",
      "metadata": {
        "id": "397341d9",
        "outputId": "44bfd9c3-7c35-4f32-8f75-bbf3a68e03a5",
        "colab": {
          "base_uri": "https://localhost:8080/"
        }
      },
      "outputs": [
        {
          "output_type": "execute_result",
          "data": {
            "text/plain": [
              "(13, 'azxcnwpoejfjb')"
            ]
          },
          "metadata": {},
          "execution_count": 12
        }
      ],
      "source": [
        "def longest(L):\n",
        "  max_l=0\n",
        "  index_l=0\n",
        "  for i in L:\n",
        "    if len(i)>max_l:\n",
        "      max_l=len(i)\n",
        "      index_l=i\n",
        "  return max_l , index_l\n",
        "L=['asdfsdf','azxcnwpoejfjb','ksfnjb','putesbjsdiyg','xcbjx','as']\n",
        "longest(L)"
      ]
    },
    {
      "cell_type": "markdown",
      "id": "53a03a6a",
      "metadata": {
        "id": "53a03a6a"
      },
      "source": [
        "**5-Write a Python program to change a given string to a newly string where the first and last chars have been exchanged using 2 ways (Sample String:abca  Expected Result:ebce)"
      ]
    },
    {
      "cell_type": "code",
      "execution_count": null,
      "id": "fd327d2a",
      "metadata": {
        "id": "fd327d2a",
        "outputId": "6dedfc4c-2cea-46c3-987c-793f8bc09527",
        "colab": {
          "base_uri": "https://localhost:8080/",
          "height": 35
        }
      },
      "outputs": [
        {
          "output_type": "execute_result",
          "data": {
            "text/plain": [
              "'ebce'"
            ],
            "application/vnd.google.colaboratory.intrinsic+json": {
              "type": "string"
            }
          },
          "metadata": {},
          "execution_count": 14
        }
      ],
      "source": [
        "def newly_s(s):\n",
        "  return 'e'+s[1:-1]+'e'\n",
        "newly_s('abca')"
      ]
    },
    {
      "cell_type": "code",
      "execution_count": null,
      "id": "285788b4",
      "metadata": {
        "id": "285788b4",
        "outputId": "de023829-9ee8-4a6a-fe36-899d6c38b6dc",
        "colab": {
          "base_uri": "https://localhost:8080/",
          "height": 35
        }
      },
      "outputs": [
        {
          "output_type": "execute_result",
          "data": {
            "text/plain": [
              "'ebce'"
            ],
            "application/vnd.google.colaboratory.intrinsic+json": {
              "type": "string"
            }
          },
          "metadata": {},
          "execution_count": 18
        }
      ],
      "source": [
        "def newly_s2(s):\n",
        "  x=''\n",
        "  for i in s:\n",
        "    if i=='a':\n",
        "      x+='e'\n",
        "    else:\n",
        "      x+=i\n",
        "  return x\n",
        "newly_s2('abca')"
      ]
    },
    {
      "cell_type": "markdown",
      "id": "25f89808",
      "metadata": {
        "id": "25f89808"
      },
      "source": [
        "**6-Write a Python program to remove characters that have odd index values in a given string (Sample String:abca Expected Result:ac)"
      ]
    },
    {
      "cell_type": "code",
      "execution_count": null,
      "id": "05959bd7",
      "metadata": {
        "id": "05959bd7",
        "outputId": "b660f16c-1e39-4b01-f113-438d79ed72c4",
        "colab": {
          "base_uri": "https://localhost:8080/",
          "height": 35
        }
      },
      "outputs": [
        {
          "output_type": "execute_result",
          "data": {
            "text/plain": [
              "'ac'"
            ],
            "application/vnd.google.colaboratory.intrinsic+json": {
              "type": "string"
            }
          },
          "metadata": {},
          "execution_count": 20
        }
      ],
      "source": [
        "def r_odd_index(s):\n",
        "  x=''\n",
        "  for i in range(len(s)):\n",
        "    if i%2==0:\n",
        "      x+=s[i]\n",
        "  return x\n",
        "r_odd_index('abca')\n",
        "#remove function take n to remove a char so if we use it the complexity will be n^2 but this way it only takes n"
      ]
    },
    {
      "cell_type": "markdown",
      "id": "eb16e898",
      "metadata": {
        "id": "eb16e898"
      },
      "source": [
        "**7-Write a Python program to count the occurrences of each word in a given sentence (Sample String:amr and ahmed are frindes but amr is the tallest Expected Result:2)"
      ]
    },
    {
      "cell_type": "code",
      "execution_count": null,
      "id": "01ce6cf5",
      "metadata": {
        "id": "01ce6cf5",
        "outputId": "22bdb909-9d0d-4c48-9af5-10b84322f9f2",
        "colab": {
          "base_uri": "https://localhost:8080/"
        }
      },
      "outputs": [
        {
          "output_type": "execute_result",
          "data": {
            "text/plain": [
              "2"
            ]
          },
          "metadata": {},
          "execution_count": 90
        }
      ],
      "source": [
        "# i thank you meant the maximam occurrence of each word. based on that\n",
        "def c_occur(s):\n",
        "  x=''\n",
        "  x=s.split()\n",
        "  x.sort() # suppose i use heapsort with complixty O(nlogn)\n",
        "  count=1\n",
        "  list1=[]\n",
        "\n",
        "  #this part for if the previous str is equal to the currant\n",
        "  for i in range(len(x)):\n",
        "    count=1\n",
        "    if x[i-1]==x[i]:\n",
        "      count+=1\n",
        "      list1.append([x[i],count])\n",
        "\n",
        "\n",
        "  # tis part for if there are more than or equal 2 occur str\n",
        "  prev=' ' # amr\n",
        "  if len(list1)!= 1 and len(list1)!= 0  :\n",
        "    for i in range(len(list1)):\n",
        "       if list1[i][0] == list1[i-1][0]:\n",
        "          list1[i][1] += list1[i-1][1]-1\n",
        "\n",
        "  # and this part to get the mixmam occuerd str\n",
        "  max=0\n",
        "  for i in list1:\n",
        "    if i[1]>max:\n",
        "      max=i[1]\n",
        "  return max\n",
        "# this algo is from scratch with total complixty O(nlogn)\n",
        "\n",
        "# i think it will work well if i use count (bulid infunction) but it will take O(n^2)\n",
        "\n",
        "c_occur('amr and ahmed are frindes but amr is the tallest')"
      ]
    },
    {
      "cell_type": "code",
      "source": [
        "c_occur('amr and ahmed are frindes but amr is the tallest and amr is smart amr')"
      ],
      "metadata": {
        "id": "H1EJBORCUmMY",
        "outputId": "981f983a-e793-4375-80ee-2a40ea044303",
        "colab": {
          "base_uri": "https://localhost:8080/"
        }
      },
      "id": "H1EJBORCUmMY",
      "execution_count": null,
      "outputs": [
        {
          "output_type": "execute_result",
          "data": {
            "text/plain": [
              "4"
            ]
          },
          "metadata": {},
          "execution_count": 89
        }
      ]
    },
    {
      "cell_type": "markdown",
      "id": "4e8125f1",
      "metadata": {
        "id": "4e8125f1"
      },
      "source": [
        "**8-Write a Python script that takes input from the user and displays that input back in upper and lower cases"
      ]
    },
    {
      "cell_type": "code",
      "execution_count": null,
      "id": "66c8f778",
      "metadata": {
        "id": "66c8f778",
        "outputId": "999c49b6-15b4-4178-ba49-01dd871e5981",
        "colab": {
          "base_uri": "https://localhost:8080/"
        }
      },
      "outputs": [
        {
          "output_type": "execute_result",
          "data": {
            "text/plain": [
              "('SHADYMAYEZ', 'shadymayez')"
            ]
          },
          "metadata": {},
          "execution_count": 95
        }
      ],
      "source": [
        "def upper_lower(s):\n",
        "  U=''\n",
        "  L=''\n",
        "  for i in s:\n",
        "    U+=i.upper()\n",
        "    L+=i.lower()\n",
        "  return U,L\n",
        "upper_lower('ShadyMayez')"
      ]
    },
    {
      "cell_type": "markdown",
      "id": "fcd68aa1",
      "metadata": {
        "id": "fcd68aa1"
      },
      "source": [
        "**9-Write a Python function to reverse a string if its length is a multiple of 4"
      ]
    },
    {
      "cell_type": "code",
      "execution_count": null,
      "id": "0671a931",
      "metadata": {
        "id": "0671a931",
        "outputId": "d8aebf39-1b59-4ee8-9515-ba59895a6a89",
        "colab": {
          "base_uri": "https://localhost:8080/",
          "height": 35
        }
      },
      "outputs": [
        {
          "output_type": "execute_result",
          "data": {
            "text/plain": [
              "'ydahSgne'"
            ],
            "application/vnd.google.colaboratory.intrinsic+json": {
              "type": "string"
            }
          },
          "metadata": {},
          "execution_count": 107
        }
      ],
      "source": [
        "def reverse(s):\n",
        "  if len(s)%4==0:\n",
        "    return s[::-1]\n",
        "  else:\n",
        "    return s\n",
        "reverse('engShady')"
      ]
    },
    {
      "cell_type": "markdown",
      "id": "b577c68d",
      "metadata": {
        "id": "b577c68d"
      },
      "source": [
        "**10- Write a Python program to remove a newline in Python"
      ]
    },
    {
      "cell_type": "code",
      "execution_count": null,
      "id": "e0c6525a",
      "metadata": {
        "id": "e0c6525a",
        "outputId": "5f785290-7c1b-45f2-eb2c-12067a7b4094",
        "colab": {
          "base_uri": "https://localhost:8080/",
          "height": 35
        }
      },
      "outputs": [
        {
          "output_type": "execute_result",
          "data": {
            "text/plain": [
              "'shadymayez'"
            ],
            "application/vnd.google.colaboratory.intrinsic+json": {
              "type": "string"
            }
          },
          "metadata": {},
          "execution_count": 116
        }
      ],
      "source": [
        "def remove_n(s):\n",
        "  x=''\n",
        "  for i in s:\n",
        "    if i!='\\n':\n",
        "      x+=i\n",
        "  return x\n",
        "s=['shady\\\n",
        "mayez']\n",
        "remove_n(s)"
      ]
    },
    {
      "cell_type": "markdown",
      "id": "80db5ae0",
      "metadata": {
        "id": "80db5ae0"
      },
      "source": [
        "**11-Write a Python program to check whether a string starts with specified characters"
      ]
    },
    {
      "cell_type": "code",
      "execution_count": 59,
      "id": "0cc4e03e",
      "metadata": {
        "id": "0cc4e03e",
        "colab": {
          "base_uri": "https://localhost:8080/"
        },
        "outputId": "305cba72-e5d9-4c3e-9a1e-5715fc0ae941"
      },
      "outputs": [
        {
          "output_type": "stream",
          "name": "stdout",
          "text": [
            "True\n",
            "False\n"
          ]
        }
      ],
      "source": [
        "def starts_with(string, start_chars):\n",
        "    return string[:len(start_chars)] == start_chars\n",
        "text = \"Hello world\"\n",
        "print(starts_with(text, \"He\"))\n",
        "print(starts_with(text, \"Wo\"))"
      ]
    },
    {
      "cell_type": "markdown",
      "id": "593a68db",
      "metadata": {
        "id": "593a68db"
      },
      "source": [
        "**12- Write a Python program to add prefix text to all of the lines in a string"
      ]
    },
    {
      "cell_type": "code",
      "execution_count": 63,
      "id": "d2e46ada",
      "metadata": {
        "id": "d2e46ada",
        "colab": {
          "base_uri": "https://localhost:8080/"
        },
        "outputId": "e58024df-364a-434e-c63b-e1c4d1070201"
      },
      "outputs": [
        {
          "output_type": "stream",
          "name": "stdout",
          "text": [
            ">> This is line one.\n",
            ">> This is line two.\n",
            ">> This is line three.\n"
          ]
        }
      ],
      "source": [
        "def add_prefix_to_lines(text, prefix):\n",
        "    lines = text.split('\\n')\n",
        "    new_lines = [prefix + line for line in lines]\n",
        "    return '\\n'.join(new_lines)\n",
        "\n",
        "multiline_text = \"\"\"This is line one.\n",
        "This is line two.\n",
        "This is line three.\"\"\"\n",
        "\n",
        "result = add_prefix_to_lines(multiline_text, \">> \")\n",
        "print(result)"
      ]
    },
    {
      "cell_type": "markdown",
      "id": "86fa1543",
      "metadata": {
        "id": "86fa1543"
      },
      "source": [
        "**13-Write a Python program to print the following numbers up to 2 decimal places"
      ]
    },
    {
      "cell_type": "code",
      "execution_count": 64,
      "id": "cd4a9d89",
      "metadata": {
        "id": "cd4a9d89",
        "colab": {
          "base_uri": "https://localhost:8080/"
        },
        "outputId": "9b67797e-e501-4cf8-d017-923bf72d92db"
      },
      "outputs": [
        {
          "output_type": "stream",
          "name": "stdout",
          "text": [
            "3.14\n",
            "2.72\n",
            "1.41\n",
            "0.58\n"
          ]
        }
      ],
      "source": [
        "def print_two_decimals(numbers):\n",
        "    for num in numbers:\n",
        "        print(f\"{num:.2f}\")\n",
        "\n",
        "nums = [3.14159, 2.71828, 1.41421, 0.57721]\n",
        "print_two_decimals(nums)"
      ]
    },
    {
      "cell_type": "markdown",
      "id": "452c0ab0",
      "metadata": {
        "id": "452c0ab0"
      },
      "source": [
        "**14-Write a Python program to print the following numbers up to 2 decimal places with a sign"
      ]
    },
    {
      "cell_type": "code",
      "execution_count": 65,
      "id": "73e82479",
      "metadata": {
        "id": "73e82479",
        "colab": {
          "base_uri": "https://localhost:8080/"
        },
        "outputId": "465861d3-5869-4f8f-fda0-981a6336c3cd"
      },
      "outputs": [
        {
          "output_type": "stream",
          "name": "stdout",
          "text": [
            "+3.14\n",
            "-2.72\n",
            "+0.00\n",
            "+5.00\n",
            "-7.12\n"
          ]
        }
      ],
      "source": [
        "def print_with_sign(numbers):\n",
        "    for num in numbers:\n",
        "        print(f\"{num:+.2f}\")\n",
        "\n",
        "nums = [3.14159, -2.71828, 0.0, 5, -7.12345]\n",
        "print_with_sign(nums)\n"
      ]
    },
    {
      "cell_type": "markdown",
      "id": "32b1811a",
      "metadata": {
        "id": "32b1811a"
      },
      "source": [
        "**15-Write a Python program to display a number with a comma separator"
      ]
    },
    {
      "cell_type": "code",
      "execution_count": 67,
      "id": "f30fc0b6",
      "metadata": {
        "id": "f30fc0b6",
        "colab": {
          "base_uri": "https://localhost:8080/",
          "height": 36
        },
        "outputId": "ddf8136d-5a30-413f-d5a0-7ac67d23aace"
      },
      "outputs": [
        {
          "output_type": "execute_result",
          "data": {
            "text/plain": [
              "'1,234,567,890'"
            ],
            "application/vnd.google.colaboratory.intrinsic+json": {
              "type": "string"
            }
          },
          "metadata": {},
          "execution_count": 67
        }
      ],
      "source": [
        "def format_number_with_commas(number):\n",
        "    return \"{:,}\".format(number)\n",
        "\n",
        "number = 1234567890\n",
        "formatted_number = format_number_with_commas(number)\n",
        "\n",
        "formatted_number"
      ]
    },
    {
      "cell_type": "markdown",
      "id": "0477f487",
      "metadata": {
        "id": "0477f487"
      },
      "source": [
        "**16-Write a Python program to reverse a string using 2 ways"
      ]
    },
    {
      "cell_type": "code",
      "source": [
        "def reverse(s):\n",
        "  x=''\n",
        "  for i in range(len(s)-1,-1,-1):\n",
        "    x+=s[i]\n",
        "  return x\n",
        "reverse('ShadyMayez')"
      ],
      "metadata": {
        "colab": {
          "base_uri": "https://localhost:8080/",
          "height": 35
        },
        "id": "nTUrVZznSrRJ",
        "outputId": "a298e970-1ba0-4b31-ca3c-1afa72648634"
      },
      "id": "nTUrVZznSrRJ",
      "execution_count": null,
      "outputs": [
        {
          "output_type": "execute_result",
          "data": {
            "text/plain": [
              "'zeyaMydahS'"
            ],
            "application/vnd.google.colaboratory.intrinsic+json": {
              "type": "string"
            }
          },
          "metadata": {},
          "execution_count": 3
        }
      ]
    },
    {
      "cell_type": "code",
      "execution_count": null,
      "id": "aa8beec8",
      "metadata": {
        "id": "aa8beec8",
        "colab": {
          "base_uri": "https://localhost:8080/",
          "height": 35
        },
        "outputId": "64c6edb6-10e1-439f-f889-ad07e77534c2"
      },
      "outputs": [
        {
          "output_type": "execute_result",
          "data": {
            "text/plain": [
              "'zeyaMydahS'"
            ],
            "application/vnd.google.colaboratory.intrinsic+json": {
              "type": "string"
            }
          },
          "metadata": {},
          "execution_count": 2
        }
      ],
      "source": [
        "def reverse1(s):\n",
        "  return s[::-1]\n",
        "reverse1('ShadyMayez')"
      ]
    },
    {
      "cell_type": "markdown",
      "id": "5afc3166",
      "metadata": {
        "id": "5afc3166"
      },
      "source": [
        " **17-Write a Python program to count repeated characters in a string (hint:use dictionary)"
      ]
    },
    {
      "cell_type": "code",
      "execution_count": null,
      "id": "515a469c",
      "metadata": {
        "id": "515a469c",
        "colab": {
          "base_uri": "https://localhost:8080/"
        },
        "outputId": "2ba6524f-9b84-49cc-e117-b578e06a43b2"
      },
      "outputs": [
        {
          "output_type": "execute_result",
          "data": {
            "text/plain": [
              "{'a': 6,\n",
              " 'm': 3,\n",
              " 'r': 4,\n",
              " 'n': 2,\n",
              " 'd': 3,\n",
              " 'h': 2,\n",
              " 'e': 5,\n",
              " 'f': 1,\n",
              " 'i': 2,\n",
              " 's': 3,\n",
              " 'b': 1,\n",
              " 'u': 1,\n",
              " 't': 4,\n",
              " 'l': 2}"
            ]
          },
          "metadata": {},
          "execution_count": 14
        }
      ],
      "source": [
        "def c_rep(s):\n",
        "  s=s.replace(' ','')\n",
        "  dict1={}\n",
        "  for i in s:\n",
        "    dict1[i]=s.count(i)\n",
        "  return dict1\n",
        "c_rep('amr and ahmed are frindes but amr is the tallest')"
      ]
    },
    {
      "cell_type": "markdown",
      "id": "ae14e4e5",
      "metadata": {
        "id": "ae14e4e5"
      },
      "source": [
        "**18-Write a Python program to find the first non-repeating character in a given string"
      ]
    },
    {
      "cell_type": "code",
      "execution_count": null,
      "id": "d73778e5",
      "metadata": {
        "id": "d73778e5",
        "colab": {
          "base_uri": "https://localhost:8080/",
          "height": 35
        },
        "outputId": "26c0ecf4-b19a-4453-fa30-ed075f032301"
      },
      "outputs": [
        {
          "output_type": "execute_result",
          "data": {
            "text/plain": [
              "'f'"
            ],
            "application/vnd.google.colaboratory.intrinsic+json": {
              "type": "string"
            }
          },
          "metadata": {},
          "execution_count": 23
        }
      ],
      "source": [
        "def non_rep(s):\n",
        "  x=s.replace(' ','')\n",
        "  dict1={}\n",
        "  for i in x:\n",
        "    dict1[i]=x.count(i)\n",
        "    if dict1[i]==1:\n",
        "      return i\n",
        "non_rep('amr and ahmed are frindes but amr is the tallest')"
      ]
    },
    {
      "cell_type": "markdown",
      "id": "3adf5669",
      "metadata": {
        "id": "3adf5669"
      },
      "source": [
        "**19-Write a Python program to remove spaces from a given string"
      ]
    },
    {
      "cell_type": "code",
      "execution_count": null,
      "id": "b4f22602",
      "metadata": {
        "id": "b4f22602",
        "colab": {
          "base_uri": "https://localhost:8080/",
          "height": 35
        },
        "outputId": "3a41e983-c346-4b9c-d148-233945196d47"
      },
      "outputs": [
        {
          "output_type": "execute_result",
          "data": {
            "text/plain": [
              "'amrandahmedarefrindesbutamristhetallest'"
            ],
            "application/vnd.google.colaboratory.intrinsic+json": {
              "type": "string"
            }
          },
          "metadata": {},
          "execution_count": 24
        }
      ],
      "source": [
        "def remove_space(s):\n",
        "  x=s.replace(' ','')\n",
        "  return x\n",
        "remove_space('amr and ahmed are frindes but amr is the tallest')"
      ]
    },
    {
      "cell_type": "markdown",
      "id": "734de60c",
      "metadata": {
        "id": "734de60c"
      },
      "source": [
        "**20-Write a Python program to count the number of non-empty substrings of a given string"
      ]
    },
    {
      "cell_type": "code",
      "execution_count": null,
      "id": "ef3f2274",
      "metadata": {
        "id": "ef3f2274",
        "colab": {
          "base_uri": "https://localhost:8080/"
        },
        "outputId": "4e5da689-f45c-4021-8ef3-4a7f3fbc67af"
      },
      "outputs": [
        {
          "output_type": "execute_result",
          "data": {
            "text/plain": [
              "10"
            ]
          },
          "metadata": {},
          "execution_count": 28
        }
      ],
      "source": [
        "def n_empty_sub(s):\n",
        "  x=s.split()\n",
        "  return len(x)\n",
        "n_empty_sub('amr and ahmed are frindes but amr is the tallest')"
      ]
    },
    {
      "cell_type": "markdown",
      "id": "509998e2",
      "metadata": {
        "id": "509998e2"
      },
      "source": [
        "**21-write a Python program to swap first and last element of any list."
      ]
    },
    {
      "cell_type": "code",
      "execution_count": null,
      "id": "68692d7f",
      "metadata": {
        "id": "68692d7f",
        "colab": {
          "base_uri": "https://localhost:8080/"
        },
        "outputId": "65473400-6d02-413f-adae-b7c752fa7115"
      },
      "outputs": [
        {
          "output_type": "execute_result",
          "data": {
            "text/plain": [
              "[5, 2, 3, 4, 1]"
            ]
          },
          "metadata": {},
          "execution_count": 30
        }
      ],
      "source": [
        "def swap(L):\n",
        "  L[0],L[-1]=L[-1],L[0]\n",
        "  return L\n",
        "swap([1,2,3,4,5])"
      ]
    },
    {
      "cell_type": "markdown",
      "id": "959e0837",
      "metadata": {
        "id": "959e0837"
      },
      "source": [
        "**22-Given a list in Python and provided the positions of the elements, write a program to swap the two elements in the list. (Input : List = [23, 65, 19, 90], pos1 = 1, pos2 = 3\n",
        "Output : [19, 65, 23, 90])"
      ]
    },
    {
      "cell_type": "code",
      "execution_count": null,
      "id": "225d8c6d",
      "metadata": {
        "id": "225d8c6d",
        "colab": {
          "base_uri": "https://localhost:8080/"
        },
        "outputId": "6fd97b30-731b-40f3-b70c-6788757a2159"
      },
      "outputs": [
        {
          "output_type": "execute_result",
          "data": {
            "text/plain": [
              "[19, 65, 23, 90]"
            ]
          },
          "metadata": {},
          "execution_count": 2
        }
      ],
      "source": [
        "def swap_pos(L,pos1,pos2):\n",
        "  L[pos1-1],L[pos2-1]=L[pos2-1],L[pos1-1]\n",
        "  return L\n",
        "swap_pos([23, 65, 19, 90],1,3)"
      ]
    },
    {
      "cell_type": "markdown",
      "id": "66fc6682",
      "metadata": {
        "id": "66fc6682"
      },
      "source": [
        "**23- search for the all ways to know the length of the list"
      ]
    },
    {
      "cell_type": "code",
      "source": [
        "def len_list(L):\n",
        "  counter=0\n",
        "  for i in L:\n",
        "    counter+=1\n",
        "  return counter\n",
        "len_list([1,2,3,4,5])"
      ],
      "metadata": {
        "id": "H_teLz1Brg2M",
        "colab": {
          "base_uri": "https://localhost:8080/"
        },
        "outputId": "0bad9a72-f6ff-4954-884d-7944db39db09"
      },
      "id": "H_teLz1Brg2M",
      "execution_count": null,
      "outputs": [
        {
          "output_type": "execute_result",
          "data": {
            "text/plain": [
              "5"
            ]
          },
          "metadata": {},
          "execution_count": 3
        }
      ]
    },
    {
      "cell_type": "markdown",
      "source": [
        "**24-write a Python code to find the Maximum number of list of numbers."
      ],
      "metadata": {
        "id": "8xk9FXP7raNE"
      },
      "id": "8xk9FXP7raNE"
    },
    {
      "cell_type": "code",
      "execution_count": null,
      "id": "63ff8b43",
      "metadata": {
        "id": "63ff8b43",
        "colab": {
          "base_uri": "https://localhost:8080/"
        },
        "outputId": "e203cecc-581f-4866-f87a-79218e1cbac0"
      },
      "outputs": [
        {
          "output_type": "execute_result",
          "data": {
            "text/plain": [
              "8"
            ]
          },
          "metadata": {},
          "execution_count": 5
        }
      ],
      "source": [
        "def max_list(L):\n",
        "  max=L[0]\n",
        "  for i in L:\n",
        "    if i>max:\n",
        "      max=i\n",
        "  return max\n",
        "max_list([3,8,3,8,2,5,4,3])"
      ]
    },
    {
      "cell_type": "markdown",
      "source": [
        "**25-write a Python code to find the Minimum number of list of numbers."
      ],
      "metadata": {
        "id": "33SIZ3dJrkXy"
      },
      "id": "33SIZ3dJrkXy"
    },
    {
      "cell_type": "code",
      "execution_count": null,
      "id": "1a89b9d3",
      "metadata": {
        "id": "1a89b9d3",
        "colab": {
          "base_uri": "https://localhost:8080/"
        },
        "outputId": "f7ada7b1-69df-4328-c482-0cb3789f5a34"
      },
      "outputs": [
        {
          "output_type": "execute_result",
          "data": {
            "text/plain": [
              "2"
            ]
          },
          "metadata": {},
          "execution_count": 6
        }
      ],
      "source": [
        "def min_list(L):\n",
        "  min=L[0]\n",
        "  for i in L:\n",
        "    if i<min:\n",
        "      min=i\n",
        "  return min\n",
        "min_list([3,8,3,8,2,5,4,3])"
      ]
    },
    {
      "cell_type": "markdown",
      "id": "96822d96",
      "metadata": {
        "id": "96822d96"
      },
      "source": [
        "**26-search for if an elem is existing in list"
      ]
    },
    {
      "cell_type": "code",
      "execution_count": null,
      "id": "51ca5c9a",
      "metadata": {
        "id": "51ca5c9a",
        "colab": {
          "base_uri": "https://localhost:8080/",
          "height": 36
        },
        "outputId": "2f87a328-35e9-43ba-df70-3c33ac7a3366"
      },
      "outputs": [
        {
          "output_type": "execute_result",
          "data": {
            "text/plain": [
              "'Not in the list'"
            ],
            "application/vnd.google.colaboratory.intrinsic+json": {
              "type": "string"
            }
          },
          "metadata": {},
          "execution_count": 25
        }
      ],
      "source": [
        "# let's do it with binery search\n",
        "def find(l,T):\n",
        "  l.sort() # suppose i use heapsort to sort the list with O(nlogn)\n",
        "  upper=len(l)-1\n",
        "  lower=0\n",
        "  founded=False\n",
        "  if T in l: # to chack if exist it cost O(n)\n",
        "\n",
        "    while not founded:         # **************\n",
        "       mid=(upper+lower)//2    #  ************\n",
        "       if l[mid]==T:           #   **********\n",
        "          founded=True         #    ********\n",
        "       elif l[mid]>T:          #     O(logn)\n",
        "          upper=mid            #    ********\n",
        "       elif l[mid]<T:          #   **********\n",
        "          lower=mid            #  ************\n",
        "    return f'position {mid}'   # **************\n",
        "\n",
        "  else:\n",
        "    return 'Not in the list'\n",
        "          #total complixty = O(nlogn)for sorting+  O(n) for chacking * O(logn) for binary search\n",
        "          #total complixty = O(nlogn)\n",
        "\n",
        "\n",
        "find([2,7,3,9,4,8,3,7,3,9],11)"
      ]
    },
    {
      "cell_type": "code",
      "source": [
        "find([2,7,3,9,4,8,3,7,3,9],8)"
      ],
      "metadata": {
        "colab": {
          "base_uri": "https://localhost:8080/",
          "height": 36
        },
        "id": "A56yvAeMogsy",
        "outputId": "a43869b8-78d8-4259-8278-38c31b4182fb"
      },
      "id": "A56yvAeMogsy",
      "execution_count": null,
      "outputs": [
        {
          "output_type": "execute_result",
          "data": {
            "text/plain": [
              "'position 7'"
            ],
            "application/vnd.google.colaboratory.intrinsic+json": {
              "type": "string"
            }
          },
          "metadata": {},
          "execution_count": 32
        }
      ]
    },
    {
      "cell_type": "markdown",
      "id": "d9557da7",
      "metadata": {
        "id": "d9557da7"
      },
      "source": [
        "**27- clear python list using different ways"
      ]
    },
    {
      "cell_type": "code",
      "execution_count": null,
      "id": "b69858a3",
      "metadata": {
        "id": "b69858a3",
        "colab": {
          "base_uri": "https://localhost:8080/"
        },
        "outputId": "d3de7dd1-d321-4f5f-ffd5-cbbf577dafe5"
      },
      "outputs": [
        {
          "output_type": "execute_result",
          "data": {
            "text/plain": [
              "[]"
            ]
          },
          "metadata": {},
          "execution_count": 29
        }
      ],
      "source": [
        "# ?\n",
        "def clear (l):\n",
        "  l.clear()\n",
        "  return l\n",
        "clear([2,7,3,9,4,8,3,7,3,9])\n",
        "\n",
        "def clear2 (l):\n",
        "  l=[]\n",
        "  return l\n",
        "clear2([2,7,3,9,4,8,3,7,3,9])\n",
        "\n",
        "def clear3 (l):\n",
        "  l[:]=[]\n",
        "  return l\n",
        "clear3([2,7,3,9,4,8,3,7,3,9])\n",
        "\n",
        "def clear4 (l):\n",
        "  l*=0\n",
        "  return l\n",
        "clear4([2,7,3,9,4,8,3,7,3,9])"
      ]
    },
    {
      "cell_type": "markdown",
      "id": "52160e88",
      "metadata": {
        "id": "52160e88"
      },
      "source": [
        "**28-remove duplicated elements from a list"
      ]
    },
    {
      "cell_type": "code",
      "execution_count": null,
      "id": "5e362228",
      "metadata": {
        "id": "5e362228",
        "colab": {
          "base_uri": "https://localhost:8080/"
        },
        "outputId": "6de2e7fd-fe03-424d-a27b-d8360af659df"
      },
      "outputs": [
        {
          "output_type": "execute_result",
          "data": {
            "text/plain": [
              "[9, 8, 7, 4, 3, 2]"
            ]
          },
          "metadata": {},
          "execution_count": 51
        }
      ],
      "source": [
        "def remove_dup(l):\n",
        "  l.sort() # -----> O(nlogn)\n",
        "  x=[]\n",
        "  for i in range(len(l)-1,-1,-1): # ----> O(n)\n",
        "    if l[i] == l[i-1]:\n",
        "       continue\n",
        "    else:\n",
        "      x.append(l[i])\n",
        "  return x\n",
        "  #total complixty= O(nlogn)\n",
        "remove_dup([2,7,3,9,4,8,3,7,3,9])"
      ]
    },
    {
      "cell_type": "code",
      "source": [
        "# more efficient way\n",
        "def remove_dup2(l):\n",
        "  return list(set(l))\n",
        "remove_dup2([2,7,3,9,4,8,3,7,3,9])\n",
        "# only takes O(n)"
      ],
      "metadata": {
        "colab": {
          "base_uri": "https://localhost:8080/"
        },
        "id": "IQygu35Bxppf",
        "outputId": "eaa0b2c8-9913-4eab-874f-0201fa2cc9f6"
      },
      "id": "IQygu35Bxppf",
      "execution_count": null,
      "outputs": [
        {
          "output_type": "execute_result",
          "data": {
            "text/plain": [
              "[2, 3, 4, 7, 8, 9]"
            ]
          },
          "metadata": {},
          "execution_count": 52
        }
      ]
    },
    {
      "cell_type": "markdown",
      "id": "282337f7",
      "metadata": {
        "id": "282337f7"
      },
      "source": [
        "**29-Given list values and keys list, convert these values to key value pairs in form of list of dictionaries. (Input : test_list = [“Gfg”, 3, “is”, 8], key_list = [“name”, “id”]\n",
        "Output : [{‘name’: ‘Gfg’, ‘id’: 3}, {‘name’: ‘is’, ‘id’: 8}])"
      ]
    },
    {
      "cell_type": "code",
      "execution_count": null,
      "id": "4d4e2d28",
      "metadata": {
        "id": "4d4e2d28",
        "colab": {
          "base_uri": "https://localhost:8080/"
        },
        "outputId": "7729ff4e-6766-4bbf-ea56-dfd107ea0f4a"
      },
      "outputs": [
        {
          "output_type": "execute_result",
          "data": {
            "text/plain": [
              "[{'name': 'Gfg', 'id': 3}, {'name': 'is', 'id': 8}]"
            ]
          },
          "metadata": {},
          "execution_count": 75
        }
      ],
      "source": [
        "def list_cto_dict(L1,L2):\n",
        "  dict_result={}\n",
        "  l=[]\n",
        "  for i in range(0,len(L1)-1,2):\n",
        "    dict_result={}\n",
        "    for j in range(len(L2)):\n",
        "      dict_result[L2[j]]=L1[i+j]\n",
        "    l.append(dict_result)\n",
        "  return l\n",
        "L1=['Gfg', 3, 'is', 8]\n",
        "L2=['name', 'id']\n",
        "list_cto_dict(L1,L2)"
      ]
    },
    {
      "cell_type": "markdown",
      "id": "c26b6e9f",
      "metadata": {
        "id": "c26b6e9f"
      },
      "source": [
        "**30-write a python program to count unique values inside a list using different ways"
      ]
    },
    {
      "cell_type": "code",
      "execution_count": null,
      "id": "72132667",
      "metadata": {
        "id": "72132667",
        "colab": {
          "base_uri": "https://localhost:8080/"
        },
        "outputId": "fd43b90b-fa93-477c-ec5c-97be73cd0d9f"
      },
      "outputs": [
        {
          "output_type": "execute_result",
          "data": {
            "text/plain": [
              "[4, 8]"
            ]
          },
          "metadata": {},
          "execution_count": 16
        }
      ],
      "source": [
        "def unique_values1(l):\n",
        "  l.sort()\n",
        "  x=[]\n",
        "  if l[0]!=l[1]:\n",
        "    x.append(l[0])\n",
        "  for i in range(1,len(l)-2):\n",
        "    if l[i]!=l[i+1] and l[i]!=l[i-1] :\n",
        "      x.append(l[i])\n",
        "  return x\n",
        "unique_values1([7,7,3,9,4,8,3,7,3,9])"
      ]
    },
    {
      "cell_type": "code",
      "source": [
        "def unique_values(l):\n",
        "  x=[]\n",
        "  for i in l:\n",
        "    if i not in l[l.index(i)+1:] and i not in l[:l.index(i)] :\n",
        "      x.append(i)\n",
        "  return x\n",
        "unique_values([2,7,3,9,4,8,3,7,3,9])"
      ],
      "metadata": {
        "colab": {
          "base_uri": "https://localhost:8080/"
        },
        "id": "ONzBCHWyp37U",
        "outputId": "90780af2-d122-4505-d74c-4cfc06a34b49"
      },
      "id": "ONzBCHWyp37U",
      "execution_count": null,
      "outputs": [
        {
          "output_type": "execute_result",
          "data": {
            "text/plain": [
              "[2, 4, 8]"
            ]
          },
          "metadata": {},
          "execution_count": 7
        }
      ]
    },
    {
      "cell_type": "code",
      "source": [
        "import pandas as pd\n",
        "def unique_values2(l):\n",
        "  x=[]\n",
        "  for i in l:\n",
        "    if pd.value_counts(l)[i]==1:\n",
        "      x.append(i)\n",
        "  return x\n",
        "unique_values2([2,7,3,9,4,8,3,7,3,9])"
      ],
      "metadata": {
        "colab": {
          "base_uri": "https://localhost:8080/"
        },
        "id": "ErVCjbrdvAGs",
        "outputId": "59a27f2d-0343-4e28-f08d-ea3eb5e7a456"
      },
      "id": "ErVCjbrdvAGs",
      "execution_count": null,
      "outputs": [
        {
          "output_type": "stream",
          "name": "stderr",
          "text": [
            "<ipython-input-24-16c9ef86b727>:5: FutureWarning: pandas.value_counts is deprecated and will be removed in a future version. Use pd.Series(obj).value_counts() instead.\n",
            "  if pd.value_counts(l)[i]==1:\n",
            "<ipython-input-24-16c9ef86b727>:5: FutureWarning: value_counts with argument that is not not a Series, Index, ExtensionArray, or np.ndarray is deprecated and will raise in a future version.\n",
            "  if pd.value_counts(l)[i]==1:\n"
          ]
        },
        {
          "output_type": "execute_result",
          "data": {
            "text/plain": [
              "[2, 4, 8]"
            ]
          },
          "metadata": {},
          "execution_count": 24
        }
      ]
    },
    {
      "cell_type": "markdown",
      "id": "fed6677c",
      "metadata": {
        "id": "fed6677c"
      },
      "source": [
        "**31-write a python program Extract all elements with Frequency greater than K (Input : test_list = [4, 6, 4, 3, 3, 4, 3, 4, 3, 8], K = 3\n",
        "Output : [4, 3] )"
      ]
    },
    {
      "cell_type": "code",
      "source": [
        "def g_than_K(l,k):\n",
        "  x=[]\n",
        "  for i in l:\n",
        "    if l.count(i)>k:\n",
        "      x.append(i)\n",
        "  return list(set(x))\n",
        "g_than_K([4, 6, 4, 3, 3, 4, 3, 4, 3, 8],3)"
      ],
      "metadata": {
        "colab": {
          "base_uri": "https://localhost:8080/"
        },
        "id": "ae2j25D-xUAy",
        "outputId": "1e1052d7-510e-4f43-8a88-aa5de7be7714"
      },
      "id": "ae2j25D-xUAy",
      "execution_count": null,
      "outputs": [
        {
          "output_type": "execute_result",
          "data": {
            "text/plain": [
              "[3, 4]"
            ]
          },
          "metadata": {},
          "execution_count": 34
        }
      ]
    },
    {
      "cell_type": "code",
      "execution_count": null,
      "id": "d81f3f9d",
      "metadata": {
        "id": "d81f3f9d",
        "colab": {
          "base_uri": "https://localhost:8080/"
        },
        "outputId": "703d78bb-98e4-40c3-ecf7-3fc8e53a99c5"
      },
      "outputs": [
        {
          "output_type": "stream",
          "name": "stderr",
          "text": [
            "<ipython-input-31-b1689a45fea7>:3: FutureWarning: pandas.value_counts is deprecated and will be removed in a future version. Use pd.Series(obj).value_counts() instead.\n",
            "  return list(pd.value_counts(l)[pd.value_counts(l)>k].index)\n",
            "<ipython-input-31-b1689a45fea7>:3: FutureWarning: value_counts with argument that is not not a Series, Index, ExtensionArray, or np.ndarray is deprecated and will raise in a future version.\n",
            "  return list(pd.value_counts(l)[pd.value_counts(l)>k].index)\n"
          ]
        },
        {
          "output_type": "execute_result",
          "data": {
            "text/plain": [
              "[4, 3]"
            ]
          },
          "metadata": {},
          "execution_count": 31
        }
      ],
      "source": [
        "import pandas as pd\n",
        "def g_than_K(l,k):\n",
        "  return list(pd.value_counts(l)[pd.value_counts(l)>k].index)\n",
        "g_than_K([4, 6, 4, 3, 3, 4, 3, 4, 3, 8],3)"
      ]
    },
    {
      "cell_type": "markdown",
      "id": "caca5224",
      "metadata": {
        "id": "caca5224"
      },
      "source": [
        "**32-write a python program to find the Strongest Neighbour (Input: 1 2 2 3 4 5\n",
        "Output: 2 2 3 4 5)"
      ]
    },
    {
      "cell_type": "code",
      "execution_count": null,
      "id": "39fbd9b2",
      "metadata": {
        "id": "39fbd9b2",
        "colab": {
          "base_uri": "https://localhost:8080/"
        },
        "outputId": "c4302f4d-c4b0-4875-8d05-a31521d8319b"
      },
      "outputs": [
        {
          "output_type": "execute_result",
          "data": {
            "text/plain": [
              "[2, 2, 3, 4, 5]"
            ]
          },
          "metadata": {},
          "execution_count": 76
        }
      ],
      "source": [
        "def pop_week(l):\n",
        "  min=l[0]\n",
        "  for i in l:\n",
        "    if i<min:\n",
        "      min=i\n",
        "  l.remove(min)\n",
        "  return l\n",
        "pop_week([1,2,2,3,4,5])"
      ]
    },
    {
      "cell_type": "markdown",
      "id": "a9fa8baf",
      "metadata": {
        "id": "a9fa8baf"
      },
      "source": [
        "**33-write a Python Program to print all Possible Combinations from the three Digits (Input: [1, 2, 3]\n",
        "Output:\n",
        "1 2 3 ##\n",
        "1 3 2 ##\n",
        "2 1 3 ##\n",
        "2 3 1 ##\n",
        "3 1 2 ##\n",
        "3 2 1)"
      ]
    },
    {
      "cell_type": "code",
      "execution_count": null,
      "id": "8c520a76",
      "metadata": {
        "id": "8c520a76",
        "colab": {
          "base_uri": "https://localhost:8080/"
        },
        "outputId": "1dedd37b-2d81-4a7b-a286-0ed8699d17f9"
      },
      "outputs": [
        {
          "output_type": "stream",
          "name": "stdout",
          "text": [
            "1 2 3\n",
            "1 3 2\n",
            "2 1 3\n",
            "2 3 1\n",
            "3 1 2\n",
            "3 2 1\n"
          ]
        }
      ],
      "source": [
        "def all_possible(l):\n",
        "  for i in range(len(l)):\n",
        "    for j in range(len(l)):\n",
        "      for k in range(len(l)):\n",
        "        if i!=j and i!=k and j!=k:\n",
        "          print(l[i],l[j],l[k])\n",
        "all_possible([1,2,3])"
      ]
    },
    {
      "cell_type": "markdown",
      "id": "5288bb89",
      "metadata": {
        "id": "5288bb89"
      },
      "source": [
        "**34-write a Python program to find all the Combinations in the list with the given condition (Input: test_list = [1,2,3]\n",
        "Output:\n",
        " [1], [1, 2], [1, 2, 3], [1, 3]\n",
        " [2], [2, 3], [3])"
      ]
    },
    {
      "cell_type": "code",
      "execution_count": null,
      "id": "59b89646",
      "metadata": {
        "id": "59b89646",
        "colab": {
          "base_uri": "https://localhost:8080/"
        },
        "outputId": "ce7bf216-dde2-4540-c879-f07bed074625"
      },
      "outputs": [
        {
          "output_type": "execute_result",
          "data": {
            "text/plain": [
              "[[1], [2], [2, 1], [3], [3, 1], [3, 2], [1, 2, 3]]"
            ]
          },
          "metadata": {},
          "execution_count": 45
        }
      ],
      "source": [
        "def all_comb(l):\n",
        "  x=[]\n",
        "  for i in range(len(l)):\n",
        "    x.append([l[i]])\n",
        "    for j in range(i):\n",
        "      if i!=j and j!=i:\n",
        "        x.append([l[i],l[j]])\n",
        "  x.append(l)\n",
        "  return x\n",
        "all_comb([1,2,3])"
      ]
    },
    {
      "cell_type": "markdown",
      "id": "39973705",
      "metadata": {
        "id": "39973705"
      },
      "source": [
        "**35-write a Python program to get all unique combinations of two Lists (List_1 = [\"a\",\"b\"]\n",
        "List_2 = [1,2]\n",
        "Unique_combination = [[('a',1),('b',2)],[('a',2),('b',1)]] )"
      ]
    },
    {
      "cell_type": "code",
      "execution_count": null,
      "id": "8c4ba22b",
      "metadata": {
        "id": "8c4ba22b",
        "colab": {
          "base_uri": "https://localhost:8080/"
        },
        "outputId": "f9f84e4e-7129-4afe-e318-c7e87606d4c3"
      },
      "outputs": [
        {
          "output_type": "execute_result",
          "data": {
            "text/plain": [
              "[[('a', 2), ('b', 1)], [('a', 1), ('b', 2)]]"
            ]
          },
          "metadata": {},
          "execution_count": 74
        }
      ],
      "source": [
        "def unique_com(l1,l2):\n",
        "  y=[]\n",
        "  x=[]\n",
        "  for i in range(len(l1)): # 0 1\n",
        "    for j in range(len(l2)): # 0 1 , 0 1\n",
        "      if l1[i]!=l1[j] and l2[i]!=l2[j]:\n",
        "        x.append((l1[i],l2[j]))\n",
        "  y.append(x)\n",
        "  x=[]\n",
        "  for i in range(len(l1)): # 0 1\n",
        "    for j in range(len(l2)): # 0 1 , 0 1\n",
        "      if l1[i]!=l1[j] and l2[i]!=l2[j]:\n",
        "         x.append((l1[i],l2[j-1]))\n",
        "  y.append(x)\n",
        "  return y\n",
        "unique_com([\"a\",\"b\"],[1,2])"
      ]
    },
    {
      "cell_type": "markdown",
      "id": "25199af5",
      "metadata": {
        "id": "25199af5"
      },
      "source": [
        "**36-Remove all the occurrences of an element from a list in Python (Input : 1 1 2 3 4 5 1 2 1\n",
        "\n",
        "**Output : 2 3 4 5 2)"
      ]
    },
    {
      "cell_type": "code",
      "execution_count": null,
      "id": "6dc4c2ba",
      "metadata": {
        "id": "6dc4c2ba",
        "colab": {
          "base_uri": "https://localhost:8080/"
        },
        "outputId": "f0b46821-adee-43d7-9c89-3d20d59d69c3"
      },
      "outputs": [
        {
          "output_type": "execute_result",
          "data": {
            "text/plain": [
              "[2, 3, 4, 5, 2]"
            ]
          },
          "metadata": {},
          "execution_count": 82
        }
      ],
      "source": [
        "def most_occurrences(l):\n",
        "  x=[]\n",
        "  y=[]\n",
        "  for i in l:\n",
        "    x.append([l.count(i),i])\n",
        "  m=max(x)\n",
        "  for i in l:\n",
        "    if i!=m[1]:\n",
        "      y.append(i)\n",
        "  return y\n",
        "most_occurrences([1,1,2,3,4,5,1,2,1])"
      ]
    },
    {
      "cell_type": "markdown",
      "id": "bf1a3c93",
      "metadata": {
        "id": "bf1a3c93"
      },
      "source": [
        "**37-write a python program to Replace index elements with elements in Other List (The original list 1 is : [‘Gfg’, ‘is’, ‘best’] The original list 2 is : [0, 1, 2, 1, 0, 0, 0, 2, 1, 1, 2, 0] The lists after index elements replacements is : [‘Gfg’, ‘is’, ‘best’, ‘is’, ‘Gfg’, ‘Gfg’, ‘Gfg’, ‘best’, ‘is’, ‘is’, ‘best’, ‘Gfg’])"
      ]
    },
    {
      "cell_type": "code",
      "execution_count": null,
      "id": "fdd66a71",
      "metadata": {
        "id": "fdd66a71",
        "colab": {
          "base_uri": "https://localhost:8080/"
        },
        "outputId": "1631d306-99cc-40a7-f904-08ee7889b665"
      },
      "outputs": [
        {
          "output_type": "execute_result",
          "data": {
            "text/plain": [
              "['Gfg',\n",
              " 'is',\n",
              " 'best',\n",
              " 'is',\n",
              " 'Gfg',\n",
              " 'Gfg',\n",
              " 'Gfg',\n",
              " 'best',\n",
              " 'is',\n",
              " 'is',\n",
              " 'best',\n",
              " 'Gfg']"
            ]
          },
          "metadata": {},
          "execution_count": 84
        }
      ],
      "source": [
        "def replace_indeses(l1,l2):\n",
        "  x=[]\n",
        "  for i in l2:\n",
        "    x.append(l1[i])\n",
        "  return x\n",
        "l1=  ['Gfg', 'is','best']\n",
        "l2=  [0, 1, 2, 1, 0, 0, 0, 2, 1, 1, 2, 0]\n",
        "replace_indeses(l1,l2)"
      ]
    },
    {
      "cell_type": "markdown",
      "id": "af0f56e8",
      "metadata": {
        "id": "af0f56e8"
      },
      "source": [
        "**38- write python program to Retain records with N occurrences of K(Input : test_list = [(4, 5, 5, 4), (5, 4, 3)], K = 5, N = 2\n",
        "Output : [(4, 5, 5, 4)]\n",
        "Input : test_list = [(4, 5, 5, 4), (5, 4, 3)], K = 5, N = 3\n",
        "Output : [] )"
      ]
    },
    {
      "cell_type": "code",
      "source": [
        "def N_occurrences_K(l,K,N):\n",
        "  x=[]\n",
        "  for i in range(len(l)):\n",
        "    if l[i].count(K)==N:\n",
        "      return l[i]\n",
        "N_occurrences_K([(4, 5, 5, 4), (5, 4, 3)],5,2 )"
      ],
      "metadata": {
        "colab": {
          "base_uri": "https://localhost:8080/"
        },
        "id": "cS8icutIAJvO",
        "outputId": "613de01d-5567-4e23-cd79-37006c5a3666"
      },
      "id": "cS8icutIAJvO",
      "execution_count": null,
      "outputs": [
        {
          "output_type": "execute_result",
          "data": {
            "text/plain": [
              "(4, 5, 5, 4)"
            ]
          },
          "metadata": {},
          "execution_count": 91
        }
      ]
    },
    {
      "cell_type": "code",
      "execution_count": null,
      "id": "67b06671",
      "metadata": {
        "id": "67b06671",
        "colab": {
          "base_uri": "https://localhost:8080/"
        },
        "outputId": "09cb98e4-9eb6-49e0-e546-81bdac0bdfb1"
      },
      "outputs": [
        {
          "output_type": "execute_result",
          "data": {
            "text/plain": [
              "(5, 4, 3)"
            ]
          },
          "metadata": {},
          "execution_count": 95
        }
      ],
      "source": [
        "def N_occurrences_K(l,K,N):\n",
        "  x=[]\n",
        "  for i in range(len(l)):\n",
        "    if l[i].count(K)==N:\n",
        "      return l[i]\n",
        "N_occurrences_K( [(4, 5, 5, 4), (5, 4, 3)], 5, 1 )"
      ]
    },
    {
      "cell_type": "markdown",
      "id": "de76f183",
      "metadata": {
        "id": "de76f183"
      },
      "source": [
        "**39-write a Python Program to Sort the list according to the column using lambda\n",
        "array = [[1, 3, 3], [2, 1, 2], [3, 2, 1]]\n",
        "Output :\n",
        "Sorted array specific to column 0, [[1, 3, 3], [2, 1, 2], [3, 2, 1]]\n",
        "Sorted array specific to column 1, [[2, 1, 2], [3, 2, 1], [1, 3, 3]]\n",
        "Sorted array specific to column 2, [[3, 2, 1], [2, 1, 2], [1, 3, 3]]"
      ]
    },
    {
      "cell_type": "code",
      "execution_count": null,
      "id": "dc883308",
      "metadata": {
        "id": "dc883308",
        "colab": {
          "base_uri": "https://localhost:8080/"
        },
        "outputId": "116e6be7-d602-4b7d-fcbf-0d55094dc695"
      },
      "outputs": [
        {
          "output_type": "execute_result",
          "data": {
            "text/plain": [
              "[[2, 1, 2], [3, 2, 1], [1, 3, 3]]"
            ]
          },
          "metadata": {},
          "execution_count": 96
        }
      ],
      "source": [
        "def sort_columns(l,ind):\n",
        "  l.sort(key=lambda x:x[ind])\n",
        "  #for each sublist x, it uses x[ind] as the sorting key\n",
        "  return l\n",
        "array = [[1, 3, 3], [2, 1, 2], [3, 2, 1]]\n",
        "sort_columns(array,1)\n"
      ]
    },
    {
      "cell_type": "markdown",
      "source": [
        "**40- write a program to Sort Python Dictionaries by Key or Value\n",
        "Input:\n",
        "{'ravi': 10, 'rajnish': 9, 'sanjeev': 15, 'yash': 2, 'suraj': 32}\n",
        "\n",
        "Output:\n",
        "{'rajnish': 9, 'ravi': 10, 'sanjeev': 15, 'suraj': 32, 'yash': 2}\n"
      ],
      "metadata": {
        "id": "mV766CYu_u7J"
      },
      "id": "mV766CYu_u7J"
    },
    {
      "cell_type": "code",
      "execution_count": null,
      "id": "d2e7b31f",
      "metadata": {
        "id": "d2e7b31f",
        "colab": {
          "base_uri": "https://localhost:8080/"
        },
        "outputId": "385cf614-89cd-4ea8-98af-cb9c6b88c342"
      },
      "outputs": [
        {
          "output_type": "execute_result",
          "data": {
            "text/plain": [
              "{'rajnish': 9, 'ravi': 10, 'sanjeev': 15, 'suraj': 32, 'yash': 2}"
            ]
          },
          "metadata": {},
          "execution_count": 97
        }
      ],
      "source": [
        "def sort_dict(d):\n",
        "  return dict(sorted(d.items()))\n",
        "sort_dict({'ravi': 10, 'rajnish': 9, 'sanjeev': 15, 'yash': 2, 'suraj': 32})"
      ]
    },
    {
      "cell_type": "markdown",
      "id": "ec63c23a",
      "metadata": {
        "id": "ec63c23a"
      },
      "source": [
        "**41-write python program to Remove keys with Values Greater than K ( Including mixed values )\n",
        "nput : test_dict = {‘Gfg’ : 3, ‘is’ : 7, ‘best’ : 10, ‘for’ : 6, ‘geeks’ : ‘CS’},\n",
        "K = 7\n",
        "Output : {‘Gfg’ : 3, ‘for’ : 6, ‘geeks’ : ‘CS’}"
      ]
    },
    {
      "cell_type": "code",
      "execution_count": null,
      "id": "e39c3a40",
      "metadata": {
        "id": "e39c3a40",
        "colab": {
          "base_uri": "https://localhost:8080/"
        },
        "outputId": "743cd0d6-633c-43b9-e771-7c030b7c8b66"
      },
      "outputs": [
        {
          "output_type": "execute_result",
          "data": {
            "text/plain": [
              "{'best': 10, 'geeks': 'CS'}"
            ]
          },
          "metadata": {},
          "execution_count": 108
        }
      ],
      "source": [
        "def remove_keys(d, k):\n",
        "    x = {}\n",
        "    for i in d:\n",
        "        if isinstance(d[i], (int, float)) and d[i] > k: #ensures that we only compare numbers values to k\n",
        "            x[i] = d[i]\n",
        "        elif isinstance(d[i], (str)): #ensures the str if exist returned\n",
        "            x[i] = d[i]\n",
        "    return x\n",
        "remove_keys({'Gfg': 3, 'is': 7, 'best': 10, 'for': 6, 'geeks': 'CS'}, 7)"
      ]
    },
    {
      "cell_type": "markdown",
      "id": "f143f0fe",
      "metadata": {
        "id": "f143f0fe"
      },
      "source": [
        "**42-Write a Python program to concatenate the following dictionaries to create a new one\n",
        "\n",
        "Sample Dictionary :\n",
        "dic1={1:10, 2:20}\n",
        "dic2={3:30, 4:40}\n",
        "dic3={5:50,6:60}\n",
        "Expected Result : {1: 10, 2: 20, 3: 30, 4: 40, 5: 50, 6: 60}"
      ]
    },
    {
      "cell_type": "code",
      "execution_count": null,
      "id": "74ffdfea",
      "metadata": {
        "id": "74ffdfea",
        "colab": {
          "base_uri": "https://localhost:8080/"
        },
        "outputId": "e5342cc5-ef7a-4575-a1f4-296adde0ccba"
      },
      "outputs": [
        {
          "output_type": "execute_result",
          "data": {
            "text/plain": [
              "{1: 10, 2: 20, 3: 30, 4: 40, 5: 50, 6: 60}"
            ]
          },
          "metadata": {},
          "execution_count": 109
        }
      ],
      "source": [
        "def concat(d1,d2,d3):\n",
        "  d1.update(d2)\n",
        "  d1.update(d3)\n",
        "  return d1\n",
        "concat({1:10, 2:20},{3:30, 4:40},{5:50,6:60})"
      ]
    },
    {
      "cell_type": "markdown",
      "id": "fb04c93c",
      "metadata": {
        "id": "fb04c93c"
      },
      "source": [
        "**43-Write a Python program to iterate over dictionaries using for loops"
      ]
    },
    {
      "cell_type": "code",
      "execution_count": 1,
      "id": "6aebc470",
      "metadata": {
        "id": "6aebc470",
        "colab": {
          "base_uri": "https://localhost:8080/"
        },
        "outputId": "5fef2569-6e4e-41e3-aae5-85335b9007d6"
      },
      "outputs": [
        {
          "output_type": "stream",
          "name": "stdout",
          "text": [
            "Gfg 3\n",
            "is 7\n",
            "best 10\n",
            "for 6\n",
            "geeks CS\n"
          ]
        }
      ],
      "source": [
        "def iterate(d):\n",
        "  for i in d:\n",
        "    print(i,d[i])\n",
        "iterate({'Gfg': 3, 'is': 7, 'best': 10, 'for': 6, 'geeks': 'CS'})"
      ]
    },
    {
      "cell_type": "markdown",
      "id": "5f491a9d",
      "metadata": {
        "id": "5f491a9d"
      },
      "source": [
        "**44- Write a Python script to merge two Python dictionaries"
      ]
    },
    {
      "cell_type": "code",
      "source": [
        "def marerge(d1,d2):\n",
        "  d1.update(d2)\n",
        "  return d1\n",
        "marerge({'Gfg': 3, 'is': 7, 'best': 10, 'for': 6, 'geeks': 'CS'},{1: 10, 2: 20, 3: 30, 4: 40, 5: 50, 6: 60})"
      ],
      "metadata": {
        "id": "FZ3zS7ezIuGq",
        "colab": {
          "base_uri": "https://localhost:8080/"
        },
        "outputId": "121dfbf5-19fe-4400-d6f3-1261b8b08a04"
      },
      "id": "FZ3zS7ezIuGq",
      "execution_count": 3,
      "outputs": [
        {
          "output_type": "execute_result",
          "data": {
            "text/plain": [
              "{'Gfg': 3,\n",
              " 'is': 7,\n",
              " 'best': 10,\n",
              " 'for': 6,\n",
              " 'geeks': 'CS',\n",
              " 1: 10,\n",
              " 2: 20,\n",
              " 3: 30,\n",
              " 4: 40,\n",
              " 5: 50,\n",
              " 6: 60}"
            ]
          },
          "metadata": {},
          "execution_count": 3
        }
      ]
    },
    {
      "cell_type": "markdown",
      "id": "216fc72d",
      "metadata": {
        "id": "216fc72d"
      },
      "source": [
        "**45-Write a Python program to get the maximum and minimum values of a dictionary values"
      ]
    },
    {
      "cell_type": "code",
      "execution_count": 5,
      "id": "d6883f5f",
      "metadata": {
        "id": "d6883f5f",
        "colab": {
          "base_uri": "https://localhost:8080/"
        },
        "outputId": "ec222010-c135-4357-dee0-a92445b05b23"
      },
      "outputs": [
        {
          "output_type": "execute_result",
          "data": {
            "text/plain": [
              "(60, 10)"
            ]
          },
          "metadata": {},
          "execution_count": 5
        }
      ],
      "source": [
        "def max_min(d):\n",
        "  return max(d.values()),min(d.values())\n",
        "max_min({1: 10, 2: 20, 3: 30, 4: 40, 5: 50, 6: 60})"
      ]
    },
    {
      "cell_type": "markdown",
      "id": "b6a53011",
      "metadata": {
        "id": "b6a53011"
      },
      "source": [
        "**46- Write a Python program to drop empty items from a given dictionary.\n",
        "Original Dictionary:\n",
        "{'c1': 'Red', 'c2': 'Green', 'c3': None}\n",
        "New Dictionary after dropping empty items:\n",
        "{'c1': 'Red', 'c2': 'Green'}"
      ]
    },
    {
      "cell_type": "code",
      "execution_count": 8,
      "id": "b5c6fecf",
      "metadata": {
        "id": "b5c6fecf",
        "colab": {
          "base_uri": "https://localhost:8080/"
        },
        "outputId": "7e46ce31-e489-472f-a477-8e60af4d495d"
      },
      "outputs": [
        {
          "output_type": "execute_result",
          "data": {
            "text/plain": [
              "{'c1': 'Red', 'c2': 'Green'}"
            ]
          },
          "metadata": {},
          "execution_count": 8
        }
      ],
      "source": [
        "def drop_empty(d):\n",
        "  index=''\n",
        "  for i in d:\n",
        "    if d[i]==None:\n",
        "      index=i\n",
        "  if index!='':\n",
        "    del d[index]\n",
        "  return d\n",
        "drop_empty({'c1': 'Red', 'c2': 'Green', 'c3': None})"
      ]
    },
    {
      "cell_type": "markdown",
      "id": "46d718c7",
      "metadata": {
        "id": "46d718c7"
      },
      "source": [
        "**47-Write a Python program to create a tuple of numbers and print one item"
      ]
    },
    {
      "cell_type": "code",
      "execution_count": 17,
      "id": "13216ff5",
      "metadata": {
        "id": "13216ff5",
        "colab": {
          "base_uri": "https://localhost:8080/"
        },
        "outputId": "527c1557-5271-41fa-f54e-fcc2d7fda0df"
      },
      "outputs": [
        {
          "output_type": "execute_result",
          "data": {
            "text/plain": [
              "(0, 2, 4, 6, 8)"
            ]
          },
          "metadata": {},
          "execution_count": 17
        }
      ],
      "source": [
        "def my_tuple():\n",
        "  t=()\n",
        "  t=tuple(range(0,10,2))\n",
        "  return t ,t[0]\n",
        "my_tuple()"
      ]
    },
    {
      "cell_type": "markdown",
      "id": "2be5b56b",
      "metadata": {
        "id": "2be5b56b"
      },
      "source": [
        "**48-Write a Python program to unpack a tuple into several variables"
      ]
    },
    {
      "cell_type": "code",
      "execution_count": 19,
      "id": "595f44be",
      "metadata": {
        "id": "595f44be",
        "colab": {
          "base_uri": "https://localhost:8080/"
        },
        "outputId": "a3fe69db-3dba-4f89-83c5-aceb08006495"
      },
      "outputs": [
        {
          "output_type": "stream",
          "name": "stdout",
          "text": [
            "a = 10, b = 20, c = 30\n"
          ]
        }
      ],
      "source": [
        "def unpack_tuple(t):\n",
        "    a, b, c = t\n",
        "    print(f\"a = {a}, b = {b}, c = {c}\")\n",
        "unpack_tuple((10, 20, 30))"
      ]
    },
    {
      "cell_type": "markdown",
      "id": "392388a7",
      "metadata": {
        "id": "392388a7"
      },
      "source": [
        "**49-Write a Python program to add an item to a tuple"
      ]
    },
    {
      "cell_type": "code",
      "execution_count": 20,
      "id": "54cc092e",
      "metadata": {
        "id": "54cc092e",
        "colab": {
          "base_uri": "https://localhost:8080/"
        },
        "outputId": "006f43ab-f316-4fb7-8ad5-adda71c5d9b6"
      },
      "outputs": [
        {
          "output_type": "execute_result",
          "data": {
            "text/plain": [
              "(10, 20, 30, 40)"
            ]
          },
          "metadata": {},
          "execution_count": 20
        }
      ],
      "source": [
        "def tuple1(t,item):\n",
        "  t=t+(item,)\n",
        "  return t\n",
        "tuple1((10, 20, 30),40)"
      ]
    },
    {
      "cell_type": "markdown",
      "id": "3e8fd124",
      "metadata": {
        "id": "3e8fd124"
      },
      "source": [
        "**50-Write a Python program to convert a tuple to a string"
      ]
    },
    {
      "cell_type": "code",
      "execution_count": 24,
      "id": "92a71ddc",
      "metadata": {
        "id": "92a71ddc",
        "colab": {
          "base_uri": "https://localhost:8080/",
          "height": 36
        },
        "outputId": "4de312b4-ef24-4583-a97a-4edd76adb634"
      },
      "outputs": [
        {
          "output_type": "execute_result",
          "data": {
            "text/plain": [
              "'102030'"
            ],
            "application/vnd.google.colaboratory.intrinsic+json": {
              "type": "string"
            }
          },
          "metadata": {},
          "execution_count": 24
        }
      ],
      "source": [
        "def tuple2(t):\n",
        "  s=''\n",
        "  for i in t:\n",
        "    s+=str(i)\n",
        "  return s\n",
        "tuple2((10, 20, 30))"
      ]
    },
    {
      "cell_type": "markdown",
      "id": "f4f64ef4",
      "metadata": {
        "id": "f4f64ef4"
      },
      "source": [
        "**51-Write a Python program to convert a list to a tuple"
      ]
    },
    {
      "cell_type": "code",
      "execution_count": 25,
      "id": "210d56d3",
      "metadata": {
        "id": "210d56d3",
        "colab": {
          "base_uri": "https://localhost:8080/"
        },
        "outputId": "b429e47e-6ee3-48a3-efc5-27f7544a634d"
      },
      "outputs": [
        {
          "output_type": "execute_result",
          "data": {
            "text/plain": [
              "(10, 20, 30)"
            ]
          },
          "metadata": {},
          "execution_count": 25
        }
      ],
      "source": [
        "def list2tuple(l):\n",
        "  return tuple(l)\n",
        "list2tuple([10, 20, 30])"
      ]
    },
    {
      "cell_type": "markdown",
      "id": "b1e00ef7",
      "metadata": {
        "id": "b1e00ef7"
      },
      "source": [
        "**52-Write a Python program to reverse a tuple"
      ]
    },
    {
      "cell_type": "code",
      "execution_count": 26,
      "id": "f45bfdc7",
      "metadata": {
        "id": "f45bfdc7",
        "colab": {
          "base_uri": "https://localhost:8080/"
        },
        "outputId": "af56a815-c71f-4bee-99c2-8e18251eb224"
      },
      "outputs": [
        {
          "output_type": "execute_result",
          "data": {
            "text/plain": [
              "(30, 20, 10)"
            ]
          },
          "metadata": {},
          "execution_count": 26
        }
      ],
      "source": [
        "def reversed_tuple(t):\n",
        "  return t[::-1]\n",
        "reversed_tuple((10, 20, 30))"
      ]
    },
    {
      "cell_type": "markdown",
      "id": "3cd347d1",
      "metadata": {
        "id": "3cd347d1"
      },
      "source": [
        "**53-Write a Python program to replace the last value of tuples in a list.\n",
        "Sample list: [(10, 20, 40), (40, 50, 60), (70, 80, 90)]\n",
        "Expected Output: [(10, 20, 100), (40, 50, 100), (70, 80, 100)]"
      ]
    },
    {
      "cell_type": "code",
      "execution_count": 34,
      "id": "3c4a2a4c",
      "metadata": {
        "id": "3c4a2a4c",
        "colab": {
          "base_uri": "https://localhost:8080/"
        },
        "outputId": "06dce285-06d5-49ec-fd71-93e3d613e794"
      },
      "outputs": [
        {
          "output_type": "execute_result",
          "data": {
            "text/plain": [
              "[(10, 20, 100), (40, 50, 100), (70, 80, 100)]"
            ]
          },
          "metadata": {},
          "execution_count": 34
        }
      ],
      "source": [
        "def replace(l,n):\n",
        "    new_list = []\n",
        "    for i in l:\n",
        "        new_tuple = i[:-1] + (n,)\n",
        "        new_list.append(new_tuple)\n",
        "    return new_list\n",
        "replace([(10, 20, 40), (40, 50, 60), (70, 80, 90)],100)"
      ]
    },
    {
      "cell_type": "markdown",
      "id": "76bb7b39",
      "metadata": {
        "id": "76bb7b39"
      },
      "source": [
        "**54-Write a Python program to convert a given string list to a tuple\n",
        "Original string: python 3.0\n",
        "<class 'str'>\n",
        "Convert the said string to a tuple:\n",
        "('p', 'y', 't', 'h', 'o', 'n', '3', '.', '0')"
      ]
    },
    {
      "cell_type": "code",
      "execution_count": 35,
      "id": "51951937",
      "metadata": {
        "id": "51951937",
        "colab": {
          "base_uri": "https://localhost:8080/"
        },
        "outputId": "b1538be0-a89f-4249-c11e-f87e073e4f99"
      },
      "outputs": [
        {
          "output_type": "execute_result",
          "data": {
            "text/plain": [
              "('p', 'y', 't', 'h', 'o', 'n', ' ', '3', '.', '0')"
            ]
          },
          "metadata": {},
          "execution_count": 35
        }
      ],
      "source": [
        "def string2tuple(s):\n",
        "  return tuple(s)\n",
        "string2tuple('python 3.0')"
      ]
    },
    {
      "cell_type": "markdown",
      "id": "5a1d5d97",
      "metadata": {
        "id": "5a1d5d97"
      },
      "source": [
        "**55-Write a Python program to calculate the average value of the numbers in a given tuple of tuples"
      ]
    },
    {
      "cell_type": "code",
      "execution_count": 37,
      "id": "834e7992",
      "metadata": {
        "id": "834e7992",
        "colab": {
          "base_uri": "https://localhost:8080/"
        },
        "outputId": "988f41ab-6465-44d8-8ce4-25b12cc00f2c"
      },
      "outputs": [
        {
          "output_type": "execute_result",
          "data": {
            "text/plain": [
              "5.0"
            ]
          },
          "metadata": {},
          "execution_count": 37
        }
      ],
      "source": [
        "def average(t):\n",
        "  sum=0\n",
        "  for i in t:\n",
        "      sum+=i\n",
        "  return sum/len(t)\n",
        "average((1,2,3,4,5,6,7,8,9))"
      ]
    },
    {
      "cell_type": "markdown",
      "id": "51edab9c",
      "metadata": {
        "id": "51edab9c"
      },
      "source": [
        "**56-Write a Python program to add member(s) to a set."
      ]
    },
    {
      "cell_type": "code",
      "execution_count": 38,
      "id": "2b65df79",
      "metadata": {
        "id": "2b65df79",
        "colab": {
          "base_uri": "https://localhost:8080/"
        },
        "outputId": "e21efd65-7171-4c74-f1f1-27524ff21435"
      },
      "outputs": [
        {
          "output_type": "execute_result",
          "data": {
            "text/plain": [
              "{1, 2, 3, 4, 5, 6, 7, 8, 9, 10}"
            ]
          },
          "metadata": {},
          "execution_count": 38
        }
      ],
      "source": [
        "def add2set(s,item):\n",
        "  s.add(item)\n",
        "  return s\n",
        "add2set({1,2,3,4,5,6,7,8,9},10)"
      ]
    },
    {
      "cell_type": "markdown",
      "id": "965590cc",
      "metadata": {
        "id": "965590cc"
      },
      "source": [
        "**57-Write a Python program to remove an item from a set if it is present in the set."
      ]
    },
    {
      "cell_type": "code",
      "execution_count": 39,
      "id": "866bab28",
      "metadata": {
        "id": "866bab28",
        "colab": {
          "base_uri": "https://localhost:8080/"
        },
        "outputId": "cb265f37-37ee-4867-8da9-ad8a2afc095a"
      },
      "outputs": [
        {
          "output_type": "execute_result",
          "data": {
            "text/plain": [
              "{1, 2, 3, 4, 5, 6, 7, 8, 9}"
            ]
          },
          "metadata": {},
          "execution_count": 39
        }
      ],
      "source": [
        "def remove_item(s,item):\n",
        "  if item in s:\n",
        "    s.remove(item)\n",
        "  return s\n",
        "remove_item({1,2,3,4,5,6,7,8,9},10)"
      ]
    },
    {
      "cell_type": "markdown",
      "id": "2b7cfed1",
      "metadata": {
        "id": "2b7cfed1"
      },
      "source": [
        "**58-Write a Python program to create an intersection,union,difference and symmetric difference of sets"
      ]
    },
    {
      "cell_type": "code",
      "execution_count": 43,
      "id": "7f94b7fe",
      "metadata": {
        "id": "7f94b7fe",
        "colab": {
          "base_uri": "https://localhost:8080/"
        },
        "outputId": "825b0dac-e8bf-4b6e-e5d4-df3a251576e3"
      },
      "outputs": [
        {
          "output_type": "execute_result",
          "data": {
            "text/plain": [
              "{4, 5, 6, 7, 8}"
            ]
          },
          "metadata": {},
          "execution_count": 43
        }
      ],
      "source": [
        "def intersection(s1,s2):\n",
        "  return s1.intersection(s2)\n",
        "def union(s1,s2):\n",
        "  return s1.union(s2)\n",
        "def difference(s1,s2):\n",
        "  return s1.difference(s2)\n",
        "s1={1,2,3,4,5,6,7,8}\n",
        "s2={4,5,6,7,8,9,0,11}\n",
        "intersection(s1,s2)"
      ]
    },
    {
      "cell_type": "code",
      "source": [
        "union(s1,s2)"
      ],
      "metadata": {
        "colab": {
          "base_uri": "https://localhost:8080/"
        },
        "id": "mez_StMPS0n4",
        "outputId": "57a6fcdf-23ca-41bb-bc98-cb1676bd053a"
      },
      "id": "mez_StMPS0n4",
      "execution_count": 44,
      "outputs": [
        {
          "output_type": "execute_result",
          "data": {
            "text/plain": [
              "{0, 1, 2, 3, 4, 5, 6, 7, 8, 9, 11}"
            ]
          },
          "metadata": {},
          "execution_count": 44
        }
      ]
    },
    {
      "cell_type": "code",
      "source": [
        "difference(s1,s2)"
      ],
      "metadata": {
        "colab": {
          "base_uri": "https://localhost:8080/"
        },
        "id": "IFGaLFf_S0kZ",
        "outputId": "0aefb562-257f-4ea2-9a9d-f5d8f585ea9b"
      },
      "id": "IFGaLFf_S0kZ",
      "execution_count": 45,
      "outputs": [
        {
          "output_type": "execute_result",
          "data": {
            "text/plain": [
              "{1, 2, 3}"
            ]
          },
          "metadata": {},
          "execution_count": 45
        }
      ]
    },
    {
      "cell_type": "markdown",
      "id": "b94931e2",
      "metadata": {
        "id": "b94931e2"
      },
      "source": [
        "**59-Write a Python program to find the maximum and minimum values in a set"
      ]
    },
    {
      "cell_type": "code",
      "execution_count": 41,
      "id": "203f9600",
      "metadata": {
        "id": "203f9600",
        "colab": {
          "base_uri": "https://localhost:8080/"
        },
        "outputId": "f54d88d4-92f5-4b44-e250-462feac5e87d"
      },
      "outputs": [
        {
          "output_type": "execute_result",
          "data": {
            "text/plain": [
              "(9, 1)"
            ]
          },
          "metadata": {},
          "execution_count": 41
        }
      ],
      "source": [
        "def max_min(s):\n",
        "  return max(s),min(s)\n",
        "max_min({1,2,3,4,5,6,7,8,9})"
      ]
    },
    {
      "cell_type": "markdown",
      "id": "255fd554",
      "metadata": {
        "id": "255fd554"
      },
      "source": [
        "**60- Write a Python program that finds all pairs of elements in a list whose sum is equal to a given value."
      ]
    },
    {
      "cell_type": "code",
      "execution_count": 58,
      "id": "c2d94e1f",
      "metadata": {
        "id": "c2d94e1f",
        "colab": {
          "base_uri": "https://localhost:8080/"
        },
        "outputId": "48e9bcd5-c140-4228-fc86-c48beaae8a7d"
      },
      "outputs": [
        {
          "output_type": "execute_result",
          "data": {
            "text/plain": [
              "[(1, 7), (2, 6), (3, 5), (5, 3), (6, 2), (7, 1)]"
            ]
          },
          "metadata": {},
          "execution_count": 58
        }
      ],
      "source": [
        "def target_sum(s,t):\n",
        "  value=[]\n",
        "  if t in s:\n",
        "    s.remove(t)\n",
        "  for i in s:\n",
        "    if t-i in s and i != t-i:\n",
        "      value.append(i)\n",
        "  r=[]\n",
        "  if value != []:\n",
        "    for i in value:\n",
        "      r.append((i,t-i))\n",
        "  return r\n",
        "target_sum({1,2,3,4,5,6,7,8},8)"
      ]
    },
    {
      "cell_type": "code",
      "source": [],
      "metadata": {
        "id": "WNUcUbOcUPKA"
      },
      "id": "WNUcUbOcUPKA",
      "execution_count": null,
      "outputs": []
    }
  ],
  "metadata": {
    "kernelspec": {
      "display_name": "Python 3 (ipykernel)",
      "language": "python",
      "name": "python3"
    },
    "language_info": {
      "codemirror_mode": {
        "name": "ipython",
        "version": 3
      },
      "file_extension": ".py",
      "mimetype": "text/x-python",
      "name": "python",
      "nbconvert_exporter": "python",
      "pygments_lexer": "ipython3",
      "version": "3.9.7"
    },
    "colab": {
      "provenance": [],
      "include_colab_link": true
    }
  },
  "nbformat": 4,
  "nbformat_minor": 5
}