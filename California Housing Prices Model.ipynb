{
 "cells": [
  {
   "cell_type": "code",
   "execution_count": null,
   "id": "ffe58c4f-c5a5-4812-b6ac-99549a935423",
   "metadata": {},
   "outputs": [],
   "source": [
    "import numpy as np\n",
    "import pandas as pd\n",
    "import matplotlib.pyplot as plt\n",
    "import seaborn as sns\n",
    "\n",
    "from sklearn.model_selection import train_test_split\n",
    "from sklearn.linear_model import LinearRegression\n",
    "from sklearn.metrics import mean_squared_error , r2_score\n",
    "from sklearn.preprocessing import MinMaxScaler\n",
    "from sklearn.ensemble import IsolationForest\n",
    "from sklearn.impute import KNNImputer\n",
    "from sklearn.decomposition import PCA\n",
    "from sklearn.preprocessing import StandardScaler"
   ]
  },
  {
   "cell_type": "code",
   "execution_count": null,
   "id": "9ab6bf56-d5c7-42d3-ba93-75904afa8144",
   "metadata": {},
   "outputs": [],
   "source": [
    "pip install xgboost"
   ]
  },
  {
   "cell_type": "code",
   "execution_count": null,
   "id": "f78b83d9-0f1b-4680-b432-64e9ded0b3b7",
   "metadata": {},
   "outputs": [],
   "source": [
    "data = pd.read_csv(\"housing.csv\")\n",
    "data"
   ]
  },
  {
   "cell_type": "code",
   "execution_count": null,
   "id": "67fd8c0e-2b4e-4930-a851-c0604f4ca65f",
   "metadata": {},
   "outputs": [],
   "source": [
    "data.info()"
   ]
  },
  {
   "cell_type": "code",
   "execution_count": null,
   "id": "655c8c23-67bc-4162-a3bb-0582e48b8f7c",
   "metadata": {},
   "outputs": [],
   "source": [
    "data[\"ocean_proximity\"].value_counts()"
   ]
  },
  {
   "cell_type": "code",
   "execution_count": null,
   "id": "0bd7746f-de3c-4a8f-b406-9f69e1b2e1a5",
   "metadata": {},
   "outputs": [],
   "source": [
    "# Define the mapping\n",
    "category_map = {\n",
    "    '<1H OCEAN': 1,\n",
    "    'INLAND': 2,\n",
    "    'NEAR OCEAN': 3,\n",
    "    'NEAR BAY': 4,\n",
    "    'ISLAND': 5\n",
    "}\n",
    "\n",
    "# Apply the mapping\n",
    "data[\"ocean_proximity\"] = data[\"ocean_proximity\"].map(category_map)\n"
   ]
  },
  {
   "cell_type": "code",
   "execution_count": null,
   "id": "4e547b6c-018d-46a7-bf2c-f89d2fc8db0c",
   "metadata": {},
   "outputs": [],
   "source": [
    "data.describe()"
   ]
  },
  {
   "cell_type": "code",
   "execution_count": null,
   "id": "9b7d0e83-0ae4-4aa3-8ff0-6d6aab9842d4",
   "metadata": {},
   "outputs": [],
   "source": [
    "print(data.columns)\n",
    "print(len(data.columns))"
   ]
  },
  {
   "cell_type": "code",
   "execution_count": null,
   "id": "14a8d6ef-bb5a-42be-9c0a-8e75b8a0c67a",
   "metadata": {},
   "outputs": [],
   "source": [
    "data.isnull().sum()"
   ]
  },
  {
   "cell_type": "code",
   "execution_count": null,
   "id": "ce34d132-a245-46b7-8e5e-2ece3d2623ee",
   "metadata": {},
   "outputs": [],
   "source": [
    "sns.boxplot(data)"
   ]
  },
  {
   "cell_type": "code",
   "execution_count": null,
   "id": "20169e6a-60c7-4f2b-a4d0-2b2744b12bab",
   "metadata": {},
   "outputs": [],
   "source": [
    "scaler = MinMaxScaler()\n",
    "n_data = scaler.fit_transform(data[['longitude', 'latitude', 'housing_median_age', 'total_rooms',\n",
    "       'total_bedrooms', 'population', 'households', 'median_income',\n",
    "       'median_house_value', 'ocean_proximity']])\n",
    "\n",
    "# Convert back to DataFrame\n",
    "n_df = pd.DataFrame(n_data, columns=['longitude', 'latitude', 'housing_median_age', 'total_rooms',\n",
    "       'total_bedrooms', 'population', 'households', 'median_income',\n",
    "       'median_house_value', 'ocean_proximity'])\n",
    "n_df"
   ]
  },
  {
   "cell_type": "code",
   "execution_count": null,
   "id": "8521da0d-ddb5-4b57-a8a7-b88abd81582d",
   "metadata": {},
   "outputs": [],
   "source": [
    "plt.figure(figsize=(12, 6))  \n",
    "sns.boxplot(data=n_df)\n",
    "plt.xticks(rotation=45, ha='right') \n",
    "plt.tight_layout() \n",
    "plt.show()"
   ]
  },
  {
   "cell_type": "code",
   "execution_count": null,
   "id": "33393763-c8fd-464e-8d79-5ffd3bf7eec2",
   "metadata": {},
   "outputs": [],
   "source": [
    "numeric_data = n_df.select_dtypes(include=['float64', 'int64'])\n",
    "\n",
    "# Initialize KNN Imputer with k=3 or k=5\n",
    "imputer = KNNImputer(n_neighbors=3)\n",
    "\n",
    "# Apply imputation\n",
    "imputed_array = imputer.fit_transform(numeric_data)\n",
    "\n",
    "# Create a new DataFrame with imputed values\n",
    "imputed_df = pd.DataFrame(imputed_array, columns=numeric_data.columns)\n",
    "\n",
    "# Replace the original numeric columns in your main DataFrame\n",
    "n_df[numeric_data.columns] = imputed_df"
   ]
  },
  {
   "cell_type": "code",
   "execution_count": null,
   "id": "2ec7a224-5b2a-43e6-af80-d8fc80225e68",
   "metadata": {},
   "outputs": [],
   "source": [
    "\n",
    "# Fit Isolation Forest\n",
    "iso = IsolationForest(contamination=0.02, random_state=42)\n",
    "outliers = iso.fit_predict(n_df)\n",
    "\n",
    "# Keep only inliers\n",
    "nc_df = n_df[outliers == 1]"
   ]
  },
  {
   "cell_type": "code",
   "execution_count": null,
   "id": "e651c2d9-d94a-454a-99f2-e38edbc92270",
   "metadata": {},
   "outputs": [],
   "source": [
    "Q1 = nc_df[\"ocean_proximity\"].quantile(0.25)\n",
    "Q3 = nc_df[\"ocean_proximity\"].quantile(0.75)\n",
    "IQR = Q3 - Q1\n",
    "\n",
    "# Define upper bound\n",
    "upper_bound = Q3 + 1.5 * IQR\n",
    "\n",
    "# Filter out rows with outlier values\n",
    "nc_df= nc_df[nc_df[\"ocean_proximity\"] <= upper_bound]"
   ]
  },
  {
   "cell_type": "code",
   "execution_count": null,
   "id": "c6c20571-d628-40e7-a0d7-a9950dbad801",
   "metadata": {},
   "outputs": [],
   "source": [
    "plt.figure(figsize=(12, 6))  \n",
    "sns.boxplot(data=nc_df)\n",
    "plt.xticks(rotation=45, ha='right') \n",
    "plt.tight_layout() \n",
    "plt.show()"
   ]
  },
  {
   "cell_type": "code",
   "execution_count": null,
   "id": "627c774e-7a28-4c98-bf1e-5e8d42abcd34",
   "metadata": {},
   "outputs": [],
   "source": [
    "corr_matrix = nc_df.corr()\n",
    "\n",
    "# Plot heatmap\n",
    "plt.figure(figsize=(12, 8))\n",
    "sns.heatmap(corr_matrix, annot=True, cmap='coolwarm', center=0, fmt=\".2f\")\n",
    "plt.title(\"Correlation Heatmap (Features vs. Target)\")\n",
    "plt.show()"
   ]
  },
  {
   "cell_type": "code",
   "execution_count": null,
   "id": "e0221eff-4c12-4915-bcf2-969c20a39e25",
   "metadata": {},
   "outputs": [],
   "source": [
    "df_encoded = pd.get_dummies(nc_df, columns=[\"ocean_proximity\"], drop_first=True)"
   ]
  },
  {
   "cell_type": "code",
   "execution_count": null,
   "id": "8940777d-9d84-43c6-9e48-81e2cfc41bba",
   "metadata": {},
   "outputs": [],
   "source": [
    "# List of columns to keep (adjust based on your preference)\n",
    "final_features = [\n",
    "    \"median_income\",\n",
    "    \"latitude\",\n",
    "    \"housing_median_age\",  # Optional: Remove if it doesn't improve performance\n",
    "] + [col for col in df_encoded.columns if \"ocean_proximity_\" in col]  # Add one-hot columns\n",
    "\n",
    "# Create new DataFrame\n",
    "df_final1 = df_encoded[final_features].copy()\n",
    "\n",
    "# Add target variable (if needed)\n",
    "df_final1[\"median_house_value\"] = nc_df[\"median_house_value\"]"
   ]
  },
  {
   "cell_type": "code",
   "execution_count": null,
   "id": "b4980632-b9e2-4166-ab65-e5ccf1847e18",
   "metadata": {},
   "outputs": [],
   "source": [
    "correlation = df_final1.corr()[\"median_house_value\"].sort_values(ascending=False)\n",
    "print(correlation)"
   ]
  },
  {
   "cell_type": "code",
   "execution_count": null,
   "id": "7828d4fb-f56c-4e49-9f08-c5da67574959",
   "metadata": {},
   "outputs": [],
   "source": [
    "from sklearn.linear_model import LinearRegression\n",
    "from sklearn.model_selection import train_test_split\n",
    "\n",
    "# Select final features\n",
    "X = df_final1[[\"median_income\", \"ocean_proximity_0.25\", \"ocean_proximity_0.75\", \"latitude\"]]\n",
    "y = df_final1[\"median_house_value\"]\n",
    "\n",
    "# Split data\n",
    "X_train, X_test, y_train, y_test = train_test_split(X, y, test_size=0.2, random_state=42)\n",
    "\n",
    "# Train model\n",
    "model = LinearRegression()\n",
    "model.fit(X_train, y_train)\n",
    "\n",
    "# Evaluate\n",
    "print(f\"R² Score: {model.score(X_test, y_test):.3f}\")"
   ]
  },
  {
   "cell_type": "code",
   "execution_count": null,
   "id": "4a204dc4-65b8-401d-be41-836729c395cb",
   "metadata": {},
   "outputs": [],
   "source": [
    "df_final1[\"income_x_latitude\"] = df_final1[\"median_income\"] * df_final1[\"latitude\"]"
   ]
  },
  {
   "cell_type": "code",
   "execution_count": null,
   "id": "c447afda-a9e4-464a-bf40-aed3d9342275",
   "metadata": {},
   "outputs": [],
   "source": [
    "df_final[\"log_median_income\"] = np.log(df_final[\"median_income\"])"
   ]
  },
  {
   "cell_type": "code",
   "execution_count": null,
   "id": "71b6b9ad-7c53-4130-b939-c0221729f0f9",
   "metadata": {},
   "outputs": [],
   "source": [
    "from sklearn.ensemble import RandomForestRegressor\n",
    "\n",
    "rf = RandomForestRegressor(random_state=42)\n",
    "rf.fit(X_train, y_train)\n",
    "print(f\"R²: {rf.score(X_test, y_test):.3f}\")"
   ]
  },
  {
   "cell_type": "code",
   "execution_count": null,
   "id": "d3c6bec3-844e-430f-8044-c247aa6121f6",
   "metadata": {},
   "outputs": [],
   "source": [
    "from xgboost import XGBRegressor\n",
    "\n",
    "xgb = XGBRegressor(random_state=42)\n",
    "xgb.fit(X_train, y_train)\n",
    "print(f\"R²: {xgb.score(X_test, y_test):.3f}\")"
   ]
  },
  {
   "cell_type": "code",
   "execution_count": null,
   "id": "94fdb3a5-5667-4ba0-b2c9-f4bb8887b180",
   "metadata": {},
   "outputs": [],
   "source": [
    "import seaborn as sns\n",
    "\n",
    "predictions = model.predict(X_test)\n",
    "residuals = y_test - predictions\n",
    "sns.scatterplot(x=predictions, y=residuals)\n",
    "plt.axhline(y=0, color='r', linestyle='--')"
   ]
  },
  {
   "cell_type": "code",
   "execution_count": null,
   "id": "799fd14f-288a-41cd-b158-d953f5dc5f0c",
   "metadata": {},
   "outputs": [],
   "source": []
  },
  {
   "cell_type": "code",
   "execution_count": null,
   "id": "2a90c704-463c-48bf-b0b6-c0d508913cfa",
   "metadata": {},
   "outputs": [],
   "source": []
  },
  {
   "cell_type": "code",
   "execution_count": null,
   "id": "4740dd77-59c5-4828-a92b-be1092e3dc67",
   "metadata": {},
   "outputs": [],
   "source": []
  },
  {
   "cell_type": "code",
   "execution_count": null,
   "id": "4d9aca28-f103-483f-9c1e-134376aa02a4",
   "metadata": {},
   "outputs": [],
   "source": []
  }
 ],
 "metadata": {
  "kernelspec": {
   "display_name": "Python 3 (ipykernel)",
   "language": "python",
   "name": "python3"
  },
  "language_info": {
   "codemirror_mode": {
    "name": "ipython",
    "version": 3
   },
   "file_extension": ".py",
   "mimetype": "text/x-python",
   "name": "python",
   "nbconvert_exporter": "python",
   "pygments_lexer": "ipython3",
   "version": "3.12.4"
  }
 },
 "nbformat": 4,
 "nbformat_minor": 5
}
